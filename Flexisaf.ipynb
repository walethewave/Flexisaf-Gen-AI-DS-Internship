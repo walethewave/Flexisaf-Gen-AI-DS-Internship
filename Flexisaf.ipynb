{
 "cells": [
  {
   "cell_type": "markdown",
   "metadata": {},
   "source": [
    "Python/ML"
   ]
  },
  {
   "cell_type": "code",
   "execution_count": 7,
   "metadata": {},
   "outputs": [
    {
     "name": "stdout",
     "output_type": "stream",
     "text": [
      "The sum is;  11\n"
     ]
    }
   ],
   "source": [
    "first_number = int(input('Type the first number: ')) ;\\\n",
    "second_number = int(input('Type the second number: ')) ;\\\n",
    "print(\"The sum is; \", first_number + second_number)"
   ]
  },
  {
   "cell_type": "code",
   "execution_count": 8,
   "metadata": {},
   "outputs": [
    {
     "name": "stdout",
     "output_type": "stream",
     "text": [
      "The power is ;  8\n"
     ]
    }
   ],
   "source": [
    "last_number = int(input('Type the last number: ')) ;\\\n",
    "Third_number = int(input('Type the third number: ')) ;\\\n",
    "    print(\"The power is ; \", last_number ** Third_number)"
   ]
  },
  {
   "cell_type": "code",
   "execution_count": 13,
   "metadata": {},
   "outputs": [
    {
     "name": "stdout",
     "output_type": "stream",
     "text": [
      "Today's date is: 2024-12-18\n"
     ]
    }
   ],
   "source": [
    "from datetime import date\n",
    "print(\"Today's date is: \" + str(date.today()))"
   ]
  },
  {
   "cell_type": "code",
   "execution_count": 14,
   "metadata": {},
   "outputs": [
    {
     "name": "stdout",
     "output_type": "stream",
     "text": [
      "11parsecs is 35.86 lightyears\n"
     ]
    }
   ],
   "source": [
    "parsecs = 11\n",
    "lightyears = parsecs * 3.26\n",
    "print(str(parsecs) + \"parsecs is \" + str(lightyears) + \" lightyears\")"
   ]
  },
  {
   "cell_type": "markdown",
   "metadata": {},
   "source": [
    "Write 'if' statements"
   ]
  },
  {
   "cell_type": "code",
   "execution_count": 4,
   "metadata": {},
   "outputs": [
    {
     "name": "stdout",
     "output_type": "stream",
     "text": [
      "55\n"
     ]
    }
   ],
   "source": [
    "a = 97\n",
    "b = 55\n",
    "# test expression\n",
    "if a > b:\n",
    "    # statement to be run\n",
    "    print(b)"
   ]
  },
  {
   "cell_type": "code",
   "execution_count": 9,
   "metadata": {},
   "outputs": [
    {
     "name": "stdout",
     "output_type": "stream",
     "text": [
      "9\n"
     ]
    }
   ],
   "source": [
    "c = 9\n",
    "d = 8\n",
    "if c >= d:\n",
    "    print (c)"
   ]
  },
  {
   "cell_type": "code",
   "execution_count": 10,
   "metadata": {},
   "outputs": [
    {
     "name": "stdout",
     "output_type": "stream",
     "text": [
      "9\n"
     ]
    }
   ],
   "source": [
    "c = 9\n",
    "d = 8\n",
    "if c >= d:\n",
    "    print(c)\n",
    "else:\n",
    "    print(d)"
   ]
  },
  {
   "cell_type": "code",
   "execution_count": 11,
   "metadata": {},
   "outputs": [
    {
     "name": "stdout",
     "output_type": "stream",
     "text": [
      "a is less than or equal to b\n"
     ]
    }
   ],
   "source": [
    "a = 27\n",
    "b = 93\n",
    "if a <= b:\n",
    "    print(\"a is less than or equal to b\")\n",
    "elif a == b:\n",
    "    print(\"a is equal to b\")"
   ]
  },
  {
   "cell_type": "code",
   "execution_count": 12,
   "metadata": {},
   "outputs": [
    {
     "name": "stdout",
     "output_type": "stream",
     "text": [
      "a is less than b\n"
     ]
    }
   ],
   "source": [
    "a = 27\n",
    "b = 93\n",
    "if a < b:\n",
    "    print(\"a is less than b\")\n",
    "elif a > b:\n",
    "    print(\"a is greater than b\")\n",
    "else: \n",
    "    print (\"a is equal to b\")"
   ]
  },
  {
   "cell_type": "code",
   "execution_count": 13,
   "metadata": {},
   "outputs": [
    {
     "name": "stdout",
     "output_type": "stream",
     "text": [
      "a is less than b\n"
     ]
    }
   ],
   "source": [
    "a = 16\n",
    "b = 25\n",
    "c = 27\n",
    "if a > b:\n",
    "    if b > c:\n",
    "        print (\"a is greater than b and b is greater than c\")\n",
    "    else: \n",
    "        print (\"a is greater than b and less than c\")\n",
    "elif a == b:\n",
    "    print (\"a is equal to b\")\n",
    "else:\n",
    "    print (\"a is less than b\")"
   ]
  },
  {
   "cell_type": "code",
   "execution_count": 3,
   "metadata": {},
   "outputs": [],
   "source": [
    "a = 23\n",
    "b = 34\n",
    "if a == 34 and b == 34:\n",
    "    print (a + b)"
   ]
  },
  {
   "cell_type": "code",
   "execution_count": 4,
   "metadata": {},
   "outputs": [
    {
     "name": "stdout",
     "output_type": "stream",
     "text": [
      "The Moon has no atmosphere.No sound can be heard on the Moon.\n"
     ]
    }
   ],
   "source": [
    "fact = \"The Moon has no atmosphere.\"\n",
    "two_facts = fact + \"No sound can be heard on the Moon.\"\n",
    "print(two_facts)"
   ]
  },
  {
   "cell_type": "code",
   "execution_count": 5,
   "metadata": {},
   "outputs": [
    {
     "name": "stdout",
     "output_type": "stream",
     "text": [
      "Temperatures And Facts About The Moon\n"
     ]
    }
   ],
   "source": [
    "print(\"temperatures and facts about the moon\".title())"
   ]
  },
  {
   "cell_type": "code",
   "execution_count": 6,
   "metadata": {},
   "outputs": [
    {
     "name": "stdout",
     "output_type": "stream",
     "text": [
      "Temperatures And Facts About The Moon\n"
     ]
    }
   ],
   "source": [
    "heading = \"temperatures and facts about the moon\"\n",
    "heading_upper = heading.title()\n",
    "print(heading_upper)"
   ]
  },
  {
   "cell_type": "code",
   "execution_count": 7,
   "metadata": {},
   "outputs": [
    {
     "name": "stdout",
     "output_type": "stream",
     "text": [
      "64\n"
     ]
    }
   ],
   "source": [
    "temperatures = \"\"\"Saturn has a daytime temperature of -170 degrees Celsius, while Mars has -28 Celsius.\"\"\"\n",
    "print(temperatures.find(\"Mars\"))\n"
   ]
  },
  {
   "cell_type": "code",
   "execution_count": 8,
   "metadata": {},
   "outputs": [
    {
     "name": "stdout",
     "output_type": "stream",
     "text": [
      "the moon and the earth\n"
     ]
    }
   ],
   "source": [
    "print(\"The Moon And The Earth\".lower())"
   ]
  },
  {
   "cell_type": "code",
   "execution_count": 1,
   "metadata": {},
   "outputs": [],
   "source": [
    "text = \"\"\" I have been having a long day, so what do you think i shoudl do next. I hopefully will try to rest tonight but i have to study. Well, i will have to continue stuyding.\"\"\""
   ]
  },
  {
   "cell_type": "code",
   "execution_count": 3,
   "metadata": {},
   "outputs": [
    {
     "name": "stdout",
     "output_type": "stream",
     "text": [
      "[' I have been having a long day, so what do you think i shoudl do next', 'I hopefully will try to rest tonight but i have to study', 'Well, i will have to continue stuyding.']\n"
     ]
    }
   ],
   "source": [
    "sentence = text.split('. ')\n",
    "print(sentence)"
   ]
  },
  {
   "cell_type": "code",
   "execution_count": 4,
   "metadata": {},
   "outputs": [
    {
     "name": "stdout",
     "output_type": "stream",
     "text": [
      "I hopefully will try to rest tonight but i have to study\n"
     ]
    }
   ],
   "source": [
    "for sentence in sentence:\n",
    "    if \"study\" in sentence:\n",
    "        print(sentence)\n"
   ]
  },
  {
   "cell_type": "code",
   "execution_count": 5,
   "metadata": {},
   "outputs": [
    {
     "name": "stdout",
     "output_type": "stream",
     "text": [
      "On the Moon, you would weigh about 1/6 of your weight on Earth.\n"
     ]
    }
   ],
   "source": [
    "mass_percentage = \"1/6\"\n",
    "print(\"On the Moon, you would weigh about %s of your weight on Earth.\" % mass_percentage)"
   ]
  },
  {
   "cell_type": "code",
   "execution_count": 6,
   "metadata": {},
   "outputs": [
    {
     "name": "stdout",
     "output_type": "stream",
     "text": [
      "Both sides of the Moon get the same amount of sunlight, but only one side is seen from Earth because the Moon rotates around its own axis when it orbits Earth.\n"
     ]
    }
   ],
   "source": [
    "print(\"\"\"Both sides of the %s get the same amount of sunlight, but only one side is seen from %s because the %s rotates around its own axis when it orbits %s.\"\"\" % (\"Moon\", \"Earth\", \"Moon\", \"Earth\"))"
   ]
  },
  {
   "cell_type": "code",
   "execution_count": 7,
   "metadata": {},
   "outputs": [
    {
     "name": "stdout",
     "output_type": "stream",
     "text": [
      "On the Moon, you would weigh about 1/6 of your weight on Earth.\n"
     ]
    }
   ],
   "source": [
    "mass_percentage = \"1/6\"\n",
    "print(\"On the Moon, you would weigh about {} of your weight on Earth.\".format(mass_percentage))"
   ]
  },
  {
   "cell_type": "code",
   "execution_count": null,
   "metadata": {},
   "outputs": [],
   "source": [
    "body_weight = \"89\"\n",
    "print (\"\")"
   ]
  },
  {
   "cell_type": "code",
   "execution_count": 3,
   "metadata": {},
   "outputs": [],
   "source": [
    "name = 'Ganymede'\n",
    "planet = 'Mars'\n",
    "gravity = '1.43'"
   ]
  },
  {
   "cell_type": "code",
   "execution_count": 1,
   "metadata": {},
   "outputs": [],
   "source": [
    "template = \"\"\"Gravity Facts about {name}\n",
    "----------------------------------------\n",
    "Planet Name: {planet}\n",
    "Gravity on {name}: {gravity} m/s2\"\"\"\n"
   ]
  },
  {
   "cell_type": "code",
   "execution_count": 4,
   "metadata": {},
   "outputs": [
    {
     "name": "stdout",
     "output_type": "stream",
     "text": [
      "Gravity Facts about Ganymede\n",
      "----------------------------------------\n",
      "Planet Name: Mars\n",
      "Gravity on Ganymede: 1.43 m/s2\n"
     ]
    }
   ],
   "source": [
    "print( template.format(name=name, planet=planet, gravity=gravity))"
   ]
  },
  {
   "cell_type": "code",
   "execution_count": 11,
   "metadata": {},
   "outputs": [],
   "source": [
    "name = 'Ameerah'\n",
    "love = \"eternal\"\n"
   ]
  },
  {
   "cell_type": "code",
   "execution_count": 13,
   "metadata": {},
   "outputs": [],
   "source": [
    "template = \"\"\"I love {name}\n",
    "type of love: {love}\n",
    "\"\"\"\n",
    "\n"
   ]
  },
  {
   "cell_type": "code",
   "execution_count": 14,
   "metadata": {},
   "outputs": [
    {
     "name": "stdout",
     "output_type": "stream",
     "text": [
      "I love Ameerah\n",
      "type of love: eternal\n",
      "\n"
     ]
    }
   ],
   "source": [
    "print(template.format(name = name, love = love))"
   ]
  },
  {
   "cell_type": "code",
   "execution_count": 21,
   "metadata": {},
   "outputs": [],
   "source": [
    "footballer = 'Ronaldo'\n",
    "position = \"Striker\""
   ]
  },
  {
   "cell_type": "code",
   "execution_count": 22,
   "metadata": {},
   "outputs": [],
   "source": [
    "template = \"\"\" The best {footballer} \n",
    "best position = {position}\"\"\""
   ]
  },
  {
   "cell_type": "code",
   "execution_count": 24,
   "metadata": {},
   "outputs": [
    {
     "name": "stdout",
     "output_type": "stream",
     "text": [
      " The best Ronaldo \n",
      "best position = Striker\n"
     ]
    }
   ],
   "source": [
    "print(template.format(footballer = footballer, position = position))"
   ]
  },
  {
   "cell_type": "code",
   "execution_count": 25,
   "metadata": {},
   "outputs": [
    {
     "name": "stdout",
     "output_type": "stream",
     "text": [
      "The best footballer is Ronaldo, position: Striker.\n"
     ]
    }
   ],
   "source": [
    "footballer = \"Ronaldo\"\n",
    "position = \"Striker\"\n",
    "template = \"The best footballer is {footballer}, position: {position}.\"\n",
    "print(template.format(footballer=footballer, position=position))\n"
   ]
  },
  {
   "cell_type": "code",
   "execution_count": 3,
   "metadata": {},
   "outputs": [],
   "source": [
    "planet = {\n",
    "    'name' : 'jupiter',\n",
    "    'moon' : 7\n",
    "}"
   ]
  },
  {
   "cell_type": "code",
   "execution_count": 7,
   "metadata": {},
   "outputs": [
    {
     "name": "stdout",
     "output_type": "stream",
     "text": [
      "jupiter\n"
     ]
    }
   ],
   "source": [
    "print(planet.get('name'))"
   ]
  },
  {
   "cell_type": "code",
   "execution_count": 1,
   "metadata": {},
   "outputs": [],
   "source": [
    "def distance_from_earth(destination):\n",
    "    if destination == \"Moon\":\n",
    "        return \"238,855\"\n",
    "    else:\n",
    "        return \"Unable to compute to that destination\"\n",
    "    \n"
   ]
  },
  {
   "cell_type": "code",
   "execution_count": 2,
   "metadata": {},
   "outputs": [
    {
     "data": {
      "text/plain": [
       "'238,855'"
      ]
     },
     "execution_count": 2,
     "metadata": {},
     "output_type": "execute_result"
    }
   ],
   "source": [
    "distance_from_earth('Moon')"
   ]
  },
  {
   "cell_type": "code",
   "execution_count": 3,
   "metadata": {},
   "outputs": [],
   "source": [
    "def days_to_complete(distance, speed):\n",
    "    hours = distance/speed\n",
    "    return hours/24"
   ]
  },
  {
   "cell_type": "code",
   "execution_count": 4,
   "metadata": {},
   "outputs": [
    {
     "data": {
      "text/plain": [
       "1.0021097046413503"
      ]
     },
     "execution_count": 4,
     "metadata": {},
     "output_type": "execute_result"
    }
   ],
   "source": [
    "days_to_complete(1900,79)"
   ]
  },
  {
   "cell_type": "code",
   "execution_count": 5,
   "metadata": {},
   "outputs": [
    {
     "data": {
      "text/plain": [
       "133"
      ]
     },
     "execution_count": 5,
     "metadata": {},
     "output_type": "execute_result"
    }
   ],
   "source": [
    "total_days = days_to_complete(238855, 75)\n",
    "round(total_days)"
   ]
  },
  {
   "cell_type": "code",
   "execution_count": 6,
   "metadata": {},
   "outputs": [],
   "source": [
    "def generate_report(main_tank, external_tank, hydrogen_tank):\n",
    "    output = f\"\"\"Fuel Report:\n",
    "    Main tank: {main_tank}\n",
    "    External tank: {external_tank}\n",
    "    Hydrogen tank: {hydrogen_tank} \n",
    "    \"\"\"\n",
    "    print(output)"
   ]
  },
  {
   "cell_type": "code",
   "execution_count": 10,
   "metadata": {},
   "outputs": [],
   "source": [
    "def automation(times,amount):\n",
    "    return times, amount"
   ]
  },
  {
   "cell_type": "code",
   "execution_count": 12,
   "metadata": {},
   "outputs": [
    {
     "name": "stdout",
     "output_type": "stream",
     "text": [
      "(2, 7)\n"
     ]
    }
   ],
   "source": [
    "result = automation(2,7)\n",
    "print(result)"
   ]
  },
  {
   "cell_type": "code",
   "execution_count": 13,
   "metadata": {},
   "outputs": [],
   "source": [
    "from datetime import timedelta, datetime\n",
    "\n",
    "def arrival_time(destination, hours=51):\n",
    "    now = datetime.now()\n",
    "    arrival = now + timedelta(hours=hours)\n",
    "    return arrival.strftime(f\"{destination} Arrival: %A %H:%M\")\n",
    "\n"
   ]
  },
  {
   "cell_type": "code",
   "execution_count": 4,
   "metadata": {},
   "outputs": [],
   "source": [
    "def water_left(astronauts, water_left, days_left):\n",
    "    daily_usage = astronauts * 11\n",
    "    total_usage = daily_usage * days_left\n",
    "    total_water_left = water_left - total_usage\n",
    "    return f\"Total water left after {days_left} days is: {total_water_left} liters\"\n",
    "    \n",
    "    \n",
    "    \n",
    "    \n",
    "    "
   ]
  },
  {
   "cell_type": "markdown",
   "metadata": {},
   "source": [
    " Numpy: arrays and matrices"
   ]
  },
  {
   "cell_type": "code",
   "execution_count": 5,
   "metadata": {},
   "outputs": [],
   "source": [
    "import numpy as np"
   ]
  },
  {
   "cell_type": "code",
   "execution_count": 8,
   "metadata": {},
   "outputs": [],
   "source": [
    "my_arr = np.shape(10000)"
   ]
  },
  {
   "cell_type": "code",
   "execution_count": 10,
   "metadata": {},
   "outputs": [],
   "source": [
    "my_list = list(range(100000))"
   ]
  },
  {
   "cell_type": "code",
   "execution_count": 11,
   "metadata": {},
   "outputs": [
    {
     "name": "stdout",
     "output_type": "stream",
     "text": [
      "CPU times: total: 0 ns\n",
      "Wall time: 0 ns\n"
     ]
    }
   ],
   "source": [
    "%time for _ in range(10): my_arr2 = my_arr*2"
   ]
  },
  {
   "cell_type": "code",
   "execution_count": 13,
   "metadata": {},
   "outputs": [
    {
     "name": "stdout",
     "output_type": "stream",
     "text": [
      "[1 2 3 4 5 6]\n"
     ]
    }
   ],
   "source": [
    "a = np.array([1,2,3,4,5,6])\n",
    "print((a))"
   ]
  },
  {
   "cell_type": "code",
   "execution_count": 14,
   "metadata": {},
   "outputs": [
    {
     "name": "stdout",
     "output_type": "stream",
     "text": [
      "[3 4 5 6]\n"
     ]
    }
   ],
   "source": [
    "print(a[2:])"
   ]
  },
  {
   "cell_type": "code",
   "execution_count": 15,
   "metadata": {},
   "outputs": [],
   "source": [
    "a[2]= 10"
   ]
  },
  {
   "cell_type": "code",
   "execution_count": 17,
   "metadata": {},
   "outputs": [
    {
     "name": "stdout",
     "output_type": "stream",
     "text": [
      "10\n"
     ]
    }
   ],
   "source": [
    "print (a[2])"
   ]
  },
  {
   "cell_type": "code",
   "execution_count": 19,
   "metadata": {},
   "outputs": [],
   "source": [
    "a_mul = np.array ([[1,2,3],\n",
    "                  [2,4,5],\n",
    "                  [44,5,6]])"
   ]
  },
  {
   "cell_type": "code",
   "execution_count": 20,
   "metadata": {},
   "outputs": [
    {
     "name": "stdout",
     "output_type": "stream",
     "text": [
      "[44  5  6]\n"
     ]
    }
   ],
   "source": [
    "print (a_mul[2])"
   ]
  },
  {
   "cell_type": "code",
   "execution_count": 22,
   "metadata": {},
   "outputs": [
    {
     "name": "stdout",
     "output_type": "stream",
     "text": [
      "[1 2 3]\n"
     ]
    }
   ],
   "source": [
    "print (a_mul[0])"
   ]
  },
  {
   "cell_type": "code",
   "execution_count": 23,
   "metadata": {},
   "outputs": [
    {
     "data": {
      "text/plain": [
       "(3, 3)"
      ]
     },
     "execution_count": 23,
     "metadata": {},
     "output_type": "execute_result"
    }
   ],
   "source": [
    "a_mul.shape"
   ]
  },
  {
   "cell_type": "code",
   "execution_count": 24,
   "metadata": {},
   "outputs": [
    {
     "data": {
      "text/plain": [
       "2"
      ]
     },
     "execution_count": 24,
     "metadata": {},
     "output_type": "execute_result"
    }
   ],
   "source": [
    "a_mul.ndim"
   ]
  },
  {
   "cell_type": "code",
   "execution_count": 25,
   "metadata": {},
   "outputs": [
    {
     "data": {
      "text/plain": [
       "9"
      ]
     },
     "execution_count": 25,
     "metadata": {},
     "output_type": "execute_result"
    }
   ],
   "source": [
    "a_mul.size"
   ]
  },
  {
   "cell_type": "code",
   "execution_count": 27,
   "metadata": {},
   "outputs": [
    {
     "data": {
      "text/plain": [
       "dtype('int32')"
      ]
     },
     "execution_count": 27,
     "metadata": {},
     "output_type": "execute_result"
    }
   ],
   "source": [
    "a_mul.dtype"
   ]
  },
  {
   "cell_type": "code",
   "execution_count": 28,
   "metadata": {},
   "outputs": [],
   "source": [
    "B = np.full((2,3,4), 4)"
   ]
  },
  {
   "cell_type": "code",
   "execution_count": 30,
   "metadata": {},
   "outputs": [
    {
     "name": "stdout",
     "output_type": "stream",
     "text": [
      "[[[4 4 4 4]\n",
      "  [4 4 4 4]\n",
      "  [4 4 4 4]]\n",
      "\n",
      " [[4 4 4 4]\n",
      "  [4 4 4 4]\n",
      "  [4 4 4 4]]]\n"
     ]
    }
   ],
   "source": [
    "print (B)"
   ]
  },
  {
   "cell_type": "code",
   "execution_count": 31,
   "metadata": {},
   "outputs": [
    {
     "name": "stdout",
     "output_type": "stream",
     "text": [
      "[[[3.95984655e+257 9.03292329e+271 1.52535471e+190 3.18487602e-114\n",
      "   8.56486049e+183]\n",
      "  [1.15992674e+253 4.82191872e+233 6.22651684e+228 2.21525978e+214\n",
      "   8.56486049e+183]\n",
      "  [4.77402336e+180 1.10871574e+219 1.29778873e+243 6.01346953e-154\n",
      "   2.59441390e+161]\n",
      "  [2.45474676e+198 4.19338640e+228 1.47311266e+171 7.13222113e-154\n",
      "   4.96042866e+180]\n",
      "  [1.88777559e+219 6.23537913e+228 5.72093048e+188 2.02763010e+174\n",
      "   2.46291819e+198]]\n",
      "\n",
      " [[1.69264133e-139 6.62901802e+265 6.20280733e+223 4.70102441e+180\n",
      "   6.23537913e+228]\n",
      "  [1.49005471e+195 4.44003833e+252 2.86530675e+161 7.13222113e-154\n",
      "   3.98837334e+252]\n",
      "  [2.16194291e+233 7.10233174e+194 1.33293953e+179 5.29061148e+180\n",
      "   8.92883155e+271]\n",
      "  [1.81596891e-152 5.28964318e+180 1.69264133e-139 3.98837335e+252\n",
      "   1.06400624e+248]\n",
      "  [4.72883470e+164 8.73977450e+183 1.00953367e+190 3.27842380e-085\n",
      "   9.82157873e+252]]\n",
      "\n",
      " [[4.81418925e+199 1.39194310e-142 3.98386110e+252 3.28663362e-085\n",
      "   8.75195332e+164]\n",
      "  [9.80058441e+252 5.50596891e-144 5.39235139e+241 8.03704345e-095\n",
      "   4.82595977e+276]\n",
      "  [5.56206199e+180 1.99416198e+174 1.11958004e+219 2.87244893e+161\n",
      "   2.12683756e-259]\n",
      "  [6.01347002e-154 5.71956191e+188 1.49460967e+195 1.14256017e+243\n",
      "   4.74539883e+170]\n",
      "  [4.35605690e-114 5.28595592e-085 1.26111183e-052 7.51106084e+242\n",
      "   8.29655075e-114]]\n",
      "\n",
      " [[2.69444192e-110 2.60971984e+180 4.16865237e+199 6.01334541e-154\n",
      "   1.02225087e+277]\n",
      "  [6.01347002e-154 4.67350283e+257 6.51279914e+175 2.12815351e+233\n",
      "   4.82406545e+228]\n",
      "  [1.55089313e+248 3.76150057e-085 4.82412328e+228 4.71500067e+180\n",
      "   2.00672612e+174]\n",
      "  [9.45320604e+218 9.08367203e+223 1.12506379e+267 2.43903632e-154\n",
      "   1.30689400e+179]\n",
      "  [2.23223212e+271 1.81596891e-152 5.98157194e-154 6.01347002e-154\n",
      "   9.82395831e+252]]\n",
      "\n",
      " [[4.35604441e-114 7.67581408e+170 1.28310348e+224 2.64986913e+180\n",
      "   6.48224660e+170]\n",
      "  [1.48381230e-076 9.44872517e-143 3.99284226e+252 2.18434079e-094\n",
      "   5.50422993e+257]\n",
      "  [6.01334434e-154 4.13795259e-114 1.69617960e+165 1.06025145e-153\n",
      "   6.28650627e+097]\n",
      "  [2.87507629e+161 6.65910392e+149 1.14449682e+243 1.29151235e+161\n",
      "   6.02669629e+175]\n",
      "  [1.44023565e+214 1.16568549e+253 3.17459450e+151 4.72176120e+257\n",
      "   5.76605001e-144]]]\n"
     ]
    }
   ],
   "source": [
    "c = np.empty((5,5,5))\n",
    "print(c)"
   ]
  },
  {
   "cell_type": "code",
   "execution_count": 33,
   "metadata": {},
   "outputs": [
    {
     "name": "stdout",
     "output_type": "stream",
     "text": [
      "[  0   5  10  15  20  25  30  35  40  45  50  55  60  65  70  75  80  85\n",
      "  90  95 100 105 110 115 120 125 130 135 140 145 150 155 160 165 170 175\n",
      " 180 185 190 195 200 205 210 215 220 225 230 235 240 245 250 255 260 265\n",
      " 270 275 280 285 290 295 300 305 310 315 320 325 330 335 340 345 350 355\n",
      " 360 365 370 375 380 385 390 395 400 405 410 415 420 425 430 435 440 445\n",
      " 450 455 460 465 470 475 480 485 490 495 500 505 510 515 520 525 530 535\n",
      " 540 545 550 555 560 565 570 575 580 585 590 595 600 605 610 615 620 625\n",
      " 630 635 640 645 650 655 660 665 670 675 680 685 690 695 700 705 710 715\n",
      " 720 725 730 735 740 745 750 755 760 765 770 775 780 785 790 795 800 805\n",
      " 810 815 820 825 830 835 840 845 850 855 860 865 870 875 880 885 890 895\n",
      " 900 905 910 915 920 925 930 935 940 945 950 955 960 965 970 975 980 985\n",
      " 990 995]\n"
     ]
    }
   ],
   "source": [
    "x_vaalues = np.arange(0,1000,5 )\n",
    "print(x_vaalues)"
   ]
  },
  {
   "cell_type": "code",
   "execution_count": 35,
   "metadata": {},
   "outputs": [
    {
     "name": "stdout",
     "output_type": "stream",
     "text": [
      "[   0.          142.85714286  285.71428571  428.57142857  571.42857143\n",
      "  714.28571429  857.14285714 1000.        ]\n"
     ]
    }
   ],
   "source": [
    "x_vaalues = np.linspace(0,1000,8)\n",
    "print(x_vaalues)"
   ]
  },
  {
   "cell_type": "code",
   "execution_count": 36,
   "metadata": {},
   "outputs": [
    {
     "name": "stdout",
     "output_type": "stream",
     "text": [
      "True\n"
     ]
    },
    {
     "name": "stderr",
     "output_type": "stream",
     "text": [
      "C:\\Users\\USER\\AppData\\Local\\Temp\\ipykernel_23152\\538978232.py:1: RuntimeWarning: invalid value encountered in sqrt\n",
      "  print (np.isnan(np.sqrt(-1)))\n"
     ]
    }
   ],
   "source": [
    "print (np.isnan(np.sqrt(-1)))"
   ]
  },
  {
   "cell_type": "markdown",
   "metadata": {},
   "source": [
    "Maths with np\n"
   ]
  },
  {
   "cell_type": "code",
   "execution_count": 39,
   "metadata": {},
   "outputs": [],
   "source": [
    "l1 = [1,3,5,7,9]\n",
    "\n",
    "l2 = [2,4,6,8,10]\n",
    "a1 = np.array(l1)\n",
    "a2 = np.array(l2)"
   ]
  },
  {
   "cell_type": "code",
   "execution_count": 40,
   "metadata": {},
   "outputs": [
    {
     "name": "stdout",
     "output_type": "stream",
     "text": [
      "[1, 3, 5, 7, 9, 1, 3, 5, 7, 9, 1, 3, 5, 7, 9, 1, 3, 5, 7, 9, 1, 3, 5, 7, 9]\n"
     ]
    }
   ],
   "source": [
    "print(l1*5)"
   ]
  },
  {
   "cell_type": "code",
   "execution_count": 43,
   "metadata": {},
   "outputs": [
    {
     "name": "stdout",
     "output_type": "stream",
     "text": [
      "[ 6  8 10 12 14]\n"
     ]
    }
   ],
   "source": [
    "print(a1+5)"
   ]
  },
  {
   "cell_type": "code",
   "execution_count": 44,
   "metadata": {},
   "outputs": [
    {
     "name": "stdout",
     "output_type": "stream",
     "text": [
      "[1, 3, 5, 7, 9, 2, 4, 6, 8, 10]\n"
     ]
    }
   ],
   "source": [
    "print(l1 + l2)"
   ]
  },
  {
   "cell_type": "code",
   "execution_count": 45,
   "metadata": {},
   "outputs": [
    {
     "name": "stdout",
     "output_type": "stream",
     "text": [
      "[ 3  7 11 15 19]\n"
     ]
    }
   ],
   "source": [
    "print (a1 + a2)\n",
    "#numpy make you add them , without numpuy ,it will jsut be a list but will be like joining it to a universal set"
   ]
  },
  {
   "cell_type": "code",
   "execution_count": 49,
   "metadata": {},
   "outputs": [],
   "source": [
    "c2 = np.array([1,2,3])\n",
    "c3 = np.array([[2],\n",
    "               [3]])"
   ]
  },
  {
   "cell_type": "code",
   "execution_count": 50,
   "metadata": {},
   "outputs": [
    {
     "data": {
      "text/plain": [
       "array([[2, 4, 6],\n",
       "       [3, 6, 9]])"
      ]
     },
     "execution_count": 50,
     "metadata": {},
     "output_type": "execute_result"
    }
   ],
   "source": [
    "c2*c3"
   ]
  },
  {
   "cell_type": "code",
   "execution_count": 51,
   "metadata": {},
   "outputs": [
    {
     "data": {
      "text/plain": [
       "8.0"
      ]
     },
     "execution_count": 51,
     "metadata": {},
     "output_type": "execute_result"
    }
   ],
   "source": [
    "np.sqrt(64)"
   ]
  },
  {
   "cell_type": "code",
   "execution_count": 52,
   "metadata": {},
   "outputs": [],
   "source": [
    "a = np.array([1,3,4])"
   ]
  },
  {
   "cell_type": "markdown",
   "metadata": {},
   "source": [
    "Add and delete"
   ]
  },
  {
   "cell_type": "code",
   "execution_count": 55,
   "metadata": {},
   "outputs": [],
   "source": [
    "a = np.append(a,[4,5])"
   ]
  },
  {
   "cell_type": "code",
   "execution_count": 56,
   "metadata": {},
   "outputs": [
    {
     "data": {
      "text/plain": [
       "array([3, 4, 4, 5])"
      ]
     },
     "execution_count": 56,
     "metadata": {},
     "output_type": "execute_result"
    }
   ],
   "source": [
    "np.delete(a, 0)"
   ]
  },
  {
   "cell_type": "code",
   "execution_count": 59,
   "metadata": {},
   "outputs": [
    {
     "name": "stdout",
     "output_type": "stream",
     "text": [
      "[2 3]\n"
     ]
    }
   ],
   "source": [
    "print(c3.flatten())"
   ]
  },
  {
   "cell_type": "code",
   "execution_count": 60,
   "metadata": {},
   "outputs": [
    {
     "name": "stdout",
     "output_type": "stream",
     "text": [
      "[2 3]\n"
     ]
    }
   ],
   "source": [
    "print(c3.ravel())"
   ]
  },
  {
   "cell_type": "code",
   "execution_count": 69,
   "metadata": {},
   "outputs": [
    {
     "name": "stdout",
     "output_type": "stream",
     "text": [
      "[array([0, 1, 2]), array([3, 4, 5]), array([6, 7, 8]), array([ 9, 10, 11])]\n"
     ]
    }
   ],
   "source": [
    "import numpy as np\n",
    "\n",
    "a = np.arange(12)  # 12 elements\n",
    "result = np.split(a, 4, axis=0)  # Divides into 4 equal parts\n",
    "print(result)\n"
   ]
  },
  {
   "cell_type": "code",
   "execution_count": 70,
   "metadata": {},
   "outputs": [
    {
     "name": "stdout",
     "output_type": "stream",
     "text": [
      "0\n"
     ]
    }
   ],
   "source": [
    "print(a.min())"
   ]
  },
  {
   "cell_type": "code",
   "execution_count": 71,
   "metadata": {},
   "outputs": [
    {
     "name": "stdout",
     "output_type": "stream",
     "text": [
      "11\n"
     ]
    }
   ],
   "source": [
    "print(a.max())"
   ]
  },
  {
   "cell_type": "code",
   "execution_count": 77,
   "metadata": {},
   "outputs": [],
   "source": [
    "num= np.random.randint(10,20, size =(2,3))"
   ]
  },
  {
   "cell_type": "code",
   "execution_count": 78,
   "metadata": {},
   "outputs": [
    {
     "name": "stdout",
     "output_type": "stream",
     "text": [
      "[[16 16 16]\n",
      " [10 14 12]]\n"
     ]
    }
   ],
   "source": [
    "print (num)"
   ]
  },
  {
   "cell_type": "code",
   "execution_count": 79,
   "metadata": {},
   "outputs": [],
   "source": [
    "numbers = np.random.binomial(10, p = 0.5, size = (5,10))"
   ]
  },
  {
   "cell_type": "code",
   "execution_count": 80,
   "metadata": {},
   "outputs": [
    {
     "name": "stdout",
     "output_type": "stream",
     "text": [
      "[[5 5 5 4 6 3 4 4 6 8]\n",
      " [4 7 4 1 4 6 5 6 6 6]\n",
      " [1 6 5 6 6 6 3 5 5 6]\n",
      " [5 6 5 5 8 5 7 5 3 2]\n",
      " [4 4 4 6 7 7 5 7 6 3]]\n"
     ]
    }
   ],
   "source": [
    "print(numbers)"
   ]
  },
  {
   "cell_type": "markdown",
   "metadata": {},
   "source": [
    "Advanced Numpy"
   ]
  },
  {
   "cell_type": "code",
   "execution_count": 83,
   "metadata": {},
   "outputs": [
    {
     "name": "stdout",
     "output_type": "stream",
     "text": [
      "[5 7 9]\n"
     ]
    }
   ],
   "source": [
    "a = np.array([1,2,3])\n",
    "b = np.array([4,5,6])\n",
    "print (a+b)"
   ]
  },
  {
   "cell_type": "code",
   "execution_count": 85,
   "metadata": {},
   "outputs": [],
   "source": [
    "c = np.array([[3], [5]])"
   ]
  },
  {
   "cell_type": "code",
   "execution_count": 86,
   "metadata": {},
   "outputs": [
    {
     "name": "stdout",
     "output_type": "stream",
     "text": [
      "[[4 5 6]\n",
      " [6 7 8]]\n"
     ]
    }
   ],
   "source": [
    "print (a + c)"
   ]
  },
  {
   "cell_type": "code",
   "execution_count": 4,
   "metadata": {},
   "outputs": [],
   "source": [
    "import numpy as np\n",
    "a = np.array([[1,2,3],\n",
    "             [2,2,3]]) #2,3\n",
    "b = np.array([[4,4,5],\n",
    "              [3,5,6]]) #2,3"
   ]
  },
  {
   "cell_type": "code",
   "execution_count": 5,
   "metadata": {},
   "outputs": [
    {
     "name": "stdout",
     "output_type": "stream",
     "text": [
      "[[5 6 8]\n",
      " [5 7 9]]\n"
     ]
    }
   ],
   "source": [
    "print(a+b)"
   ]
  },
  {
   "cell_type": "code",
   "execution_count": null,
   "metadata": {},
   "outputs": [],
   "source": []
  },
  {
   "cell_type": "code",
   "execution_count": null,
   "metadata": {},
   "outputs": [],
   "source": []
  },
  {
   "cell_type": "code",
   "execution_count": 1,
   "metadata": {},
   "outputs": [
    {
     "name": "stdout",
     "output_type": "stream",
     "text": [
      "Requirement already satisfied: statsmodels in c:\\users\\user\\appdata\\local\\packages\\pythonsoftwarefoundation.python.3.11_qbz5n2kfra8p0\\localcache\\local-packages\\python311\\site-packages (0.14.2)\n",
      "Requirement already satisfied: numpy>=1.22.3 in c:\\users\\user\\appdata\\local\\packages\\pythonsoftwarefoundation.python.3.11_qbz5n2kfra8p0\\localcache\\local-packages\\python311\\site-packages (from statsmodels) (1.26.4)\n",
      "Requirement already satisfied: scipy!=1.9.2,>=1.8 in c:\\users\\user\\appdata\\local\\packages\\pythonsoftwarefoundation.python.3.11_qbz5n2kfra8p0\\localcache\\local-packages\\python311\\site-packages (from statsmodels) (1.13.1)\n",
      "Requirement already satisfied: pandas!=2.1.0,>=1.4 in c:\\users\\user\\appdata\\local\\packages\\pythonsoftwarefoundation.python.3.11_qbz5n2kfra8p0\\localcache\\local-packages\\python311\\site-packages (from statsmodels) (2.2.2)\n",
      "Requirement already satisfied: patsy>=0.5.6 in c:\\users\\user\\appdata\\local\\packages\\pythonsoftwarefoundation.python.3.11_qbz5n2kfra8p0\\localcache\\local-packages\\python311\\site-packages (from statsmodels) (0.5.6)\n",
      "Requirement already satisfied: packaging>=21.3 in c:\\users\\user\\appdata\\local\\packages\\pythonsoftwarefoundation.python.3.11_qbz5n2kfra8p0\\localcache\\local-packages\\python311\\site-packages (from statsmodels) (24.0)\n",
      "Requirement already satisfied: python-dateutil>=2.8.2 in c:\\users\\user\\appdata\\local\\packages\\pythonsoftwarefoundation.python.3.11_qbz5n2kfra8p0\\localcache\\local-packages\\python311\\site-packages (from pandas!=2.1.0,>=1.4->statsmodels) (2.9.0.post0)\n",
      "Requirement already satisfied: pytz>=2020.1 in c:\\users\\user\\appdata\\local\\packages\\pythonsoftwarefoundation.python.3.11_qbz5n2kfra8p0\\localcache\\local-packages\\python311\\site-packages (from pandas!=2.1.0,>=1.4->statsmodels) (2024.1)\n",
      "Requirement already satisfied: tzdata>=2022.7 in c:\\users\\user\\appdata\\local\\packages\\pythonsoftwarefoundation.python.3.11_qbz5n2kfra8p0\\localcache\\local-packages\\python311\\site-packages (from pandas!=2.1.0,>=1.4->statsmodels) (2024.1)\n",
      "Requirement already satisfied: six in c:\\users\\user\\appdata\\local\\packages\\pythonsoftwarefoundation.python.3.11_qbz5n2kfra8p0\\localcache\\local-packages\\python311\\site-packages (from patsy>=0.5.6->statsmodels) (1.16.0)\n"
     ]
    },
    {
     "name": "stderr",
     "output_type": "stream",
     "text": [
      "\n",
      "[notice] A new release of pip is available: 24.0 -> 24.2\n",
      "[notice] To update, run: C:\\Users\\USER\\AppData\\Local\\Microsoft\\WindowsApps\\PythonSoftwareFoundation.Python.3.11_qbz5n2kfra8p0\\python.exe -m pip install --upgrade pip\n"
     ]
    },
    {
     "data": {
      "text/html": [
       "<div>\n",
       "<style scoped>\n",
       "    .dataframe tbody tr th:only-of-type {\n",
       "        vertical-align: middle;\n",
       "    }\n",
       "\n",
       "    .dataframe tbody tr th {\n",
       "        vertical-align: top;\n",
       "    }\n",
       "\n",
       "    .dataframe thead th {\n",
       "        text-align: right;\n",
       "    }\n",
       "</style>\n",
       "<table border=\"1\" class=\"dataframe\">\n",
       "  <thead>\n",
       "    <tr style=\"text-align: right;\">\n",
       "      <th></th>\n",
       "      <th>boot_size</th>\n",
       "      <th>harness_size</th>\n",
       "    </tr>\n",
       "  </thead>\n",
       "  <tbody>\n",
       "    <tr>\n",
       "      <th>0</th>\n",
       "      <td>39</td>\n",
       "      <td>58</td>\n",
       "    </tr>\n",
       "    <tr>\n",
       "      <th>1</th>\n",
       "      <td>38</td>\n",
       "      <td>58</td>\n",
       "    </tr>\n",
       "    <tr>\n",
       "      <th>2</th>\n",
       "      <td>37</td>\n",
       "      <td>52</td>\n",
       "    </tr>\n",
       "    <tr>\n",
       "      <th>3</th>\n",
       "      <td>39</td>\n",
       "      <td>58</td>\n",
       "    </tr>\n",
       "    <tr>\n",
       "      <th>4</th>\n",
       "      <td>38</td>\n",
       "      <td>57</td>\n",
       "    </tr>\n",
       "    <tr>\n",
       "      <th>5</th>\n",
       "      <td>35</td>\n",
       "      <td>52</td>\n",
       "    </tr>\n",
       "    <tr>\n",
       "      <th>6</th>\n",
       "      <td>37</td>\n",
       "      <td>55</td>\n",
       "    </tr>\n",
       "    <tr>\n",
       "      <th>7</th>\n",
       "      <td>36</td>\n",
       "      <td>53</td>\n",
       "    </tr>\n",
       "    <tr>\n",
       "      <th>8</th>\n",
       "      <td>35</td>\n",
       "      <td>49</td>\n",
       "    </tr>\n",
       "    <tr>\n",
       "      <th>9</th>\n",
       "      <td>40</td>\n",
       "      <td>54</td>\n",
       "    </tr>\n",
       "    <tr>\n",
       "      <th>10</th>\n",
       "      <td>40</td>\n",
       "      <td>59</td>\n",
       "    </tr>\n",
       "    <tr>\n",
       "      <th>11</th>\n",
       "      <td>36</td>\n",
       "      <td>56</td>\n",
       "    </tr>\n",
       "    <tr>\n",
       "      <th>12</th>\n",
       "      <td>38</td>\n",
       "      <td>53</td>\n",
       "    </tr>\n",
       "    <tr>\n",
       "      <th>13</th>\n",
       "      <td>39</td>\n",
       "      <td>58</td>\n",
       "    </tr>\n",
       "    <tr>\n",
       "      <th>14</th>\n",
       "      <td>42</td>\n",
       "      <td>57</td>\n",
       "    </tr>\n",
       "    <tr>\n",
       "      <th>15</th>\n",
       "      <td>42</td>\n",
       "      <td>58</td>\n",
       "    </tr>\n",
       "    <tr>\n",
       "      <th>16</th>\n",
       "      <td>36</td>\n",
       "      <td>56</td>\n",
       "    </tr>\n",
       "    <tr>\n",
       "      <th>17</th>\n",
       "      <td>36</td>\n",
       "      <td>51</td>\n",
       "    </tr>\n",
       "    <tr>\n",
       "      <th>18</th>\n",
       "      <td>35</td>\n",
       "      <td>50</td>\n",
       "    </tr>\n",
       "    <tr>\n",
       "      <th>19</th>\n",
       "      <td>41</td>\n",
       "      <td>59</td>\n",
       "    </tr>\n",
       "    <tr>\n",
       "      <th>20</th>\n",
       "      <td>42</td>\n",
       "      <td>59</td>\n",
       "    </tr>\n",
       "    <tr>\n",
       "      <th>21</th>\n",
       "      <td>38</td>\n",
       "      <td>59</td>\n",
       "    </tr>\n",
       "    <tr>\n",
       "      <th>22</th>\n",
       "      <td>37</td>\n",
       "      <td>55</td>\n",
       "    </tr>\n",
       "    <tr>\n",
       "      <th>23</th>\n",
       "      <td>35</td>\n",
       "      <td>50</td>\n",
       "    </tr>\n",
       "    <tr>\n",
       "      <th>24</th>\n",
       "      <td>40</td>\n",
       "      <td>55</td>\n",
       "    </tr>\n",
       "    <tr>\n",
       "      <th>25</th>\n",
       "      <td>36</td>\n",
       "      <td>52</td>\n",
       "    </tr>\n",
       "    <tr>\n",
       "      <th>26</th>\n",
       "      <td>35</td>\n",
       "      <td>53</td>\n",
       "    </tr>\n",
       "    <tr>\n",
       "      <th>27</th>\n",
       "      <td>39</td>\n",
       "      <td>54</td>\n",
       "    </tr>\n",
       "    <tr>\n",
       "      <th>28</th>\n",
       "      <td>41</td>\n",
       "      <td>61</td>\n",
       "    </tr>\n",
       "    <tr>\n",
       "      <th>29</th>\n",
       "      <td>37</td>\n",
       "      <td>56</td>\n",
       "    </tr>\n",
       "    <tr>\n",
       "      <th>30</th>\n",
       "      <td>35</td>\n",
       "      <td>55</td>\n",
       "    </tr>\n",
       "    <tr>\n",
       "      <th>31</th>\n",
       "      <td>41</td>\n",
       "      <td>60</td>\n",
       "    </tr>\n",
       "    <tr>\n",
       "      <th>32</th>\n",
       "      <td>39</td>\n",
       "      <td>57</td>\n",
       "    </tr>\n",
       "    <tr>\n",
       "      <th>33</th>\n",
       "      <td>41</td>\n",
       "      <td>56</td>\n",
       "    </tr>\n",
       "    <tr>\n",
       "      <th>34</th>\n",
       "      <td>42</td>\n",
       "      <td>61</td>\n",
       "    </tr>\n",
       "    <tr>\n",
       "      <th>35</th>\n",
       "      <td>42</td>\n",
       "      <td>58</td>\n",
       "    </tr>\n",
       "    <tr>\n",
       "      <th>36</th>\n",
       "      <td>36</td>\n",
       "      <td>53</td>\n",
       "    </tr>\n",
       "    <tr>\n",
       "      <th>37</th>\n",
       "      <td>37</td>\n",
       "      <td>57</td>\n",
       "    </tr>\n",
       "    <tr>\n",
       "      <th>38</th>\n",
       "      <td>37</td>\n",
       "      <td>57</td>\n",
       "    </tr>\n",
       "    <tr>\n",
       "      <th>39</th>\n",
       "      <td>39</td>\n",
       "      <td>55</td>\n",
       "    </tr>\n",
       "    <tr>\n",
       "      <th>40</th>\n",
       "      <td>42</td>\n",
       "      <td>60</td>\n",
       "    </tr>\n",
       "    <tr>\n",
       "      <th>41</th>\n",
       "      <td>35</td>\n",
       "      <td>51</td>\n",
       "    </tr>\n",
       "    <tr>\n",
       "      <th>42</th>\n",
       "      <td>36</td>\n",
       "      <td>52</td>\n",
       "    </tr>\n",
       "    <tr>\n",
       "      <th>43</th>\n",
       "      <td>41</td>\n",
       "      <td>56</td>\n",
       "    </tr>\n",
       "    <tr>\n",
       "      <th>44</th>\n",
       "      <td>41</td>\n",
       "      <td>55</td>\n",
       "    </tr>\n",
       "    <tr>\n",
       "      <th>45</th>\n",
       "      <td>41</td>\n",
       "      <td>57</td>\n",
       "    </tr>\n",
       "    <tr>\n",
       "      <th>46</th>\n",
       "      <td>39</td>\n",
       "      <td>58</td>\n",
       "    </tr>\n",
       "    <tr>\n",
       "      <th>47</th>\n",
       "      <td>39</td>\n",
       "      <td>57</td>\n",
       "    </tr>\n",
       "    <tr>\n",
       "      <th>48</th>\n",
       "      <td>35</td>\n",
       "      <td>51</td>\n",
       "    </tr>\n",
       "    <tr>\n",
       "      <th>49</th>\n",
       "      <td>39</td>\n",
       "      <td>59</td>\n",
       "    </tr>\n",
       "  </tbody>\n",
       "</table>\n",
       "</div>"
      ],
      "text/plain": [
       "    boot_size  harness_size\n",
       "0          39            58\n",
       "1          38            58\n",
       "2          37            52\n",
       "3          39            58\n",
       "4          38            57\n",
       "5          35            52\n",
       "6          37            55\n",
       "7          36            53\n",
       "8          35            49\n",
       "9          40            54\n",
       "10         40            59\n",
       "11         36            56\n",
       "12         38            53\n",
       "13         39            58\n",
       "14         42            57\n",
       "15         42            58\n",
       "16         36            56\n",
       "17         36            51\n",
       "18         35            50\n",
       "19         41            59\n",
       "20         42            59\n",
       "21         38            59\n",
       "22         37            55\n",
       "23         35            50\n",
       "24         40            55\n",
       "25         36            52\n",
       "26         35            53\n",
       "27         39            54\n",
       "28         41            61\n",
       "29         37            56\n",
       "30         35            55\n",
       "31         41            60\n",
       "32         39            57\n",
       "33         41            56\n",
       "34         42            61\n",
       "35         42            58\n",
       "36         36            53\n",
       "37         37            57\n",
       "38         37            57\n",
       "39         39            55\n",
       "40         42            60\n",
       "41         35            51\n",
       "42         36            52\n",
       "43         41            56\n",
       "44         41            55\n",
       "45         41            57\n",
       "46         39            58\n",
       "47         39            57\n",
       "48         35            51\n",
       "49         39            59"
      ]
     },
     "execution_count": 1,
     "metadata": {},
     "output_type": "execute_result"
    }
   ],
   "source": [
    "import pandas\n",
    "!pip install statsmodels\n",
    "\n",
    "\n",
    "# Make a dictionary of data for boot sizes\n",
    "# and harness sizes in cm\n",
    "data = {\n",
    "    'boot_size' : [ 39, 38, 37, 39, 38, 35, 37, 36, 35, 40, \n",
    "                    40, 36, 38, 39, 42, 42, 36, 36, 35, 41, \n",
    "                    42, 38, 37, 35, 40, 36, 35, 39, 41, 37, \n",
    "                    35, 41, 39, 41, 42, 42, 36, 37, 37, 39,\n",
    "                    42, 35, 36, 41, 41, 41, 39, 39, 35, 39\n",
    " ],\n",
    "    'harness_size': [ 58, 58, 52, 58, 57, 52, 55, 53, 49, 54,\n",
    "                59, 56, 53, 58, 57, 58, 56, 51, 50, 59,\n",
    "                59, 59, 55, 50, 55, 52, 53, 54, 61, 56,\n",
    "                55, 60, 57, 56, 61, 58, 53, 57, 57, 55,\n",
    "                60, 51, 52, 56, 55, 57, 58, 57, 51, 59\n",
    "                ]\n",
    "}\n",
    "\n",
    "# Convert it into a table using pandas\n",
    "dataset = pandas.DataFrame(data)\n",
    "\n",
    "# Print the data\n",
    "# In normal python we would write\n",
    "# print(dataset)\n",
    "# but in Jupyter notebooks, we simply write the name\n",
    "# of the variable and it is printed nicely \n",
    "dataset"
   ]
  },
  {
   "cell_type": "markdown",
   "metadata": {},
   "source": [
    "As you can see, we have the sizes of boots and harnesses for 50 avalanche dogs.\n",
    "\n",
    "We want to use harness size to estimate boot size. This means harness_size is our input. We want a model that will process the input and make its own estimations of the boot size (output).\n",
    "\n",
    "Select a model\n",
    "The first thing we need to do is select a model. We're just getting started, so let's start with a very simple model called OLS. This is just a straight line (sometimes called a trendline).\n",
    "\n",
    "Let's use an existing library to create our model, but we won't train it yet."
   ]
  },
  {
   "cell_type": "code",
   "execution_count": 3,
   "metadata": {},
   "outputs": [
    {
     "name": "stdout",
     "output_type": "stream",
     "text": [
      "Model selected but it does not have parameters set. We need to train it!\n"
     ]
    }
   ],
   "source": [
    "# Load a library to do the hard work for us\n",
    "import statsmodels.formula.api as smf\n",
    "\n",
    "# First, we define our formula using a special syntax\n",
    "# This says that boot_size is explained by harness_size\n",
    "formula = \"boot_size ~ harness_size\"\n",
    "\n",
    "# Create the model, but don't train it yet\n",
    "model = smf.ols(formula = formula, data = dataset)\n",
    "\n",
    "# Note that we have created our model but it does not \n",
    "# have internal parameters set yet\n",
    "if not hasattr(model, 'params'):\n",
    "    print(\"Model selected but it does not have parameters set. We need to train it!\")"
   ]
  },
  {
   "cell_type": "markdown",
   "metadata": {},
   "source": [
    "# Load a library to do the hard work for us\n",
    "import statsmodels.formula.api as smf\n",
    "\n",
    "# First, we define our formula using a special syntax\n",
    "# This says that boot_size is explained by harness_size\n",
    "formula = \"boot_size ~ harness_size\"\n",
    "\n",
    "# Create the model, but don't train it yet\n",
    "model = smf.ols(formula = formula, data = dataset)\n",
    "\n",
    "# Note that we have created our model but it does not \n",
    "# have internal parameters set yet\n",
    "if not hasattr(model, 'params'):\n",
    "    print(\"Model selected but it does not have parameters set. We need to train it!\")"
   ]
  },
  {
   "cell_type": "code",
   "execution_count": 4,
   "metadata": {},
   "outputs": [
    {
     "name": "stdout",
     "output_type": "stream",
     "text": [
      "The following model parameters have been found:\n",
      "Line slope: 0.5859254167382717\n",
      "Line Intercept: 5.719109812682555\n"
     ]
    },
    {
     "name": "stderr",
     "output_type": "stream",
     "text": [
      "C:\\Users\\USER\\AppData\\Local\\Temp\\ipykernel_12272\\3347697885.py:8: FutureWarning: Series.__getitem__ treating keys as positions is deprecated. In a future version, integer keys will always be treated as labels (consistent with DataFrame behavior). To access a value by position, use `ser.iloc[pos]`\n",
      "  f\"Line slope: {fitted_model.params[1]}\\n\"+\n",
      "C:\\Users\\USER\\AppData\\Local\\Temp\\ipykernel_12272\\3347697885.py:9: FutureWarning: Series.__getitem__ treating keys as positions is deprecated. In a future version, integer keys will always be treated as labels (consistent with DataFrame behavior). To access a value by position, use `ser.iloc[pos]`\n",
      "  f\"Line Intercept: {fitted_model.params[0]}\")\n"
     ]
    }
   ],
   "source": [
    "# Train (fit) the model so that it creates a line that \n",
    "# fits our data. This method does the hard work for\n",
    "# us. We will look at how this method works in a later unit.\n",
    "fitted_model = model.fit()\n",
    "\n",
    "# Print information about our model now it has been fit\n",
    "print(\"The following model parameters have been found:\\n\" +\n",
    "        f\"Line slope: {fitted_model.params[1]}\\n\"+\n",
    "        f\"Line Intercept: {fitted_model.params[0]}\")"
   ]
  },
  {
   "cell_type": "code",
   "execution_count": 5,
   "metadata": {},
   "outputs": [
    {
     "name": "stderr",
     "output_type": "stream",
     "text": [
      "C:\\Users\\USER\\AppData\\Local\\Temp\\ipykernel_12272\\825871035.py:6: FutureWarning: Series.__getitem__ treating keys as positions is deprecated. In a future version, integer keys will always be treated as labels (consistent with DataFrame behavior). To access a value by position, use `ser.iloc[pos]`\n",
      "  plt.plot(dataset[\"harness_size\"], fitted_model.params[1] * dataset[\"harness_size\"] + fitted_model.params[0], 'r', label='Fitted line')\n"
     ]
    },
    {
     "data": {
      "text/plain": [
       "<matplotlib.legend.Legend at 0x1b348f549d0>"
      ]
     },
     "execution_count": 5,
     "metadata": {},
     "output_type": "execute_result"
    },
    {
     "data": {
      "image/png": "[encoded data removed]",
      "text/plain": [
       "<Figure size 640x480 with 1 Axes>"
      ]
     },
     "metadata": {},
     "output_type": "display_data"
    }
   ],
   "source": [
    "import matplotlib.pyplot as plt\n",
    "\n",
    "# Show a scatter plot of the data points and add the fitted line\n",
    "# Don't worry about how this works for now\n",
    "plt.scatter(dataset[\"harness_size\"], dataset[\"boot_size\"])\n",
    "plt.plot(dataset[\"harness_size\"], fitted_model.params[1] * dataset[\"harness_size\"] + fitted_model.params[0], 'r', label='Fitted line')\n",
    "\n",
    "# add labels and legend\n",
    "plt.xlabel(\"harness_size\")\n",
    "plt.ylabel(\"boot_size\")\n",
    "plt.legend()"
   ]
  },
  {
   "cell_type": "markdown",
   "metadata": {},
   "source": [
    "he preceding graph shows our original data as circles with a red line through it. The red line shows our model.\n",
    "\n",
    "We can look at this line to understand our model. For example, we can see that as harness size increases, so does the estimated boot size.\n",
    "\n",
    "Use the model\n",
    "Now that we've finished training, we can use our model to predict a dog's boot size from their harness size.\n",
    "\n",
    "For example, by looking at the red line, we can see that that a harness size of 52.5 (x axis) corresponds to a boot size of about 36.5 (y axis).\n",
    "\n",
    "We don't have to do this by eye, though. We can use the model in our program to predict any boot size we like. Run the following code to see how we can use our model now that it's trained:"
   ]
  },
  {
   "cell_type": "code",
   "execution_count": 6,
   "metadata": {},
   "outputs": [
    {
     "name": "stdout",
     "output_type": "stream",
     "text": [
      "Estimated approximate_boot_size:\n",
      "36.48019419144182\n"
     ]
    }
   ],
   "source": [
    "# harness_size states the size of the harness we are interested in\n",
    "harness_size = { 'harness_size' : [52.5] }\n",
    "\n",
    "# Use the model to predict what size of boots the dog will fit\n",
    "approximate_boot_size = fitted_model.predict(harness_size)\n",
    "\n",
    "# Print the result\n",
    "print(\"Estimated approximate_boot_size:\")\n",
    "print(approximate_boot_size[0])"
   ]
  },
  {
   "cell_type": "markdown",
   "metadata": {},
   "source": [
    "Visualize inputs and outputs"
   ]
  },
  {
   "cell_type": "code",
   "execution_count": 8,
   "metadata": {},
   "outputs": [
    {
     "data": {
      "text/html": [
       "<div>\n",
       "<style scoped>\n",
       "    .dataframe tbody tr th:only-of-type {\n",
       "        vertical-align: middle;\n",
       "    }\n",
       "\n",
       "    .dataframe tbody tr th {\n",
       "        vertical-align: top;\n",
       "    }\n",
       "\n",
       "    .dataframe thead th {\n",
       "        text-align: right;\n",
       "    }\n",
       "</style>\n",
       "<table border=\"1\" class=\"dataframe\">\n",
       "  <thead>\n",
       "    <tr style=\"text-align: right;\">\n",
       "      <th></th>\n",
       "      <th>boot_size</th>\n",
       "      <th>harness_size</th>\n",
       "      <th>sex</th>\n",
       "      <th>age_years</th>\n",
       "    </tr>\n",
       "  </thead>\n",
       "  <tbody>\n",
       "    <tr>\n",
       "      <th>0</th>\n",
       "      <td>39</td>\n",
       "      <td>58</td>\n",
       "      <td>male</td>\n",
       "      <td>12.0</td>\n",
       "    </tr>\n",
       "    <tr>\n",
       "      <th>1</th>\n",
       "      <td>38</td>\n",
       "      <td>58</td>\n",
       "      <td>male</td>\n",
       "      <td>9.6</td>\n",
       "    </tr>\n",
       "    <tr>\n",
       "      <th>2</th>\n",
       "      <td>37</td>\n",
       "      <td>52</td>\n",
       "      <td>female</td>\n",
       "      <td>8.6</td>\n",
       "    </tr>\n",
       "    <tr>\n",
       "      <th>3</th>\n",
       "      <td>39</td>\n",
       "      <td>58</td>\n",
       "      <td>male</td>\n",
       "      <td>10.2</td>\n",
       "    </tr>\n",
       "    <tr>\n",
       "      <th>4</th>\n",
       "      <td>38</td>\n",
       "      <td>57</td>\n",
       "      <td>male</td>\n",
       "      <td>7.8</td>\n",
       "    </tr>\n",
       "  </tbody>\n",
       "</table>\n",
       "</div>"
      ],
      "text/plain": [
       "   boot_size  harness_size     sex  age_years\n",
       "0         39            58    male       12.0\n",
       "1         38            58    male        9.6\n",
       "2         37            52  female        8.6\n",
       "3         39            58    male       10.2\n",
       "4         38            57    male        7.8"
      ]
     },
     "execution_count": 8,
     "metadata": {},
     "output_type": "execute_result"
    }
   ],
   "source": [
    "import pandas\n",
    "\n",
    "# Read the text file containing data using pandas\n",
    "dataset = pandas.read_csv('doggy_boot_harness.csv')\n",
    "\n",
    "# Print the data\n",
    "# Because there are a lot of data, use head() to only print the first few rows\n",
    "dataset.head()"
   ]
  },
  {
   "cell_type": "markdown",
   "metadata": {},
   "source": [
    "As you can see, this dataset contains information about dogs, including their doggy boot size, harness size, sex, and age in years.\n",
    "\n",
    "Data is stored as columns and rows, similar to a table you might see in Excel.\n",
    "\n",
    "Filter data by Columns\n",
    "Data is easy to filter by columns. We can either type this directly, like dataset.my_column_name, or like so: dataset[\"my_column_name\"].\n",
    "\n",
    "We can use this to either extract data, or to delete data.\n",
    "\n",
    "Let's take a look at the harness sizes, and delete the sex and age_years columns."
   ]
  },
  {
   "cell_type": "code",
   "execution_count": 9,
   "metadata": {},
   "outputs": [
    {
     "name": "stdout",
     "output_type": "stream",
     "text": [
      "Harness sizes\n",
      "0     58\n",
      "1     58\n",
      "2     52\n",
      "3     58\n",
      "4     57\n",
      "5     52\n",
      "6     55\n",
      "7     53\n",
      "8     49\n",
      "9     54\n",
      "10    59\n",
      "11    56\n",
      "12    53\n",
      "13    58\n",
      "14    57\n",
      "15    58\n",
      "16    56\n",
      "17    51\n",
      "18    50\n",
      "19    59\n",
      "20    59\n",
      "21    59\n",
      "22    55\n",
      "23    50\n",
      "24    55\n",
      "25    52\n",
      "26    53\n",
      "27    54\n",
      "28    61\n",
      "29    56\n",
      "30    55\n",
      "31    60\n",
      "32    57\n",
      "33    56\n",
      "34    61\n",
      "35    58\n",
      "36    53\n",
      "37    57\n",
      "38    57\n",
      "39    55\n",
      "40    60\n",
      "41    51\n",
      "42    52\n",
      "43    56\n",
      "44    55\n",
      "45    57\n",
      "46    58\n",
      "47    57\n",
      "48    51\n",
      "49    59\n",
      "Name: harness_size, dtype: int64\n",
      "\n",
      "Available columns after deleting sex and age information:\n",
      "['boot_size' 'harness_size']\n"
     ]
    }
   ],
   "source": [
    "\n",
    "# Look at the harness sizes\n",
    "print(\"Harness sizes\")\n",
    "print(dataset.harness_size)\n",
    "\n",
    "# Remove the sex and age-in-years columns.\n",
    "del dataset[\"sex\"]\n",
    "del dataset[\"age_years\"]\n",
    "\n",
    "# Print the column names\n",
    "print(\"\\nAvailable columns after deleting sex and age information:\")\n",
    "print(dataset.columns.values)\n"
   ]
  },
  {
   "cell_type": "markdown",
   "metadata": {},
   "source": [
    "As you can see, this dataset contains information about dogs, including their doggy boot size, harness size, sex, and age in years.\n",
    "\n",
    "Data is stored as columns and rows, similar to a table you might see in Excel.\n",
    "\n",
    "\n",
    "Filter data by Columns\n",
    "Data is easy to filter by columns. We can either type this directly, like dataset.my_column_name, or like so: dataset[\"my_column_name\"].\n",
    "\n",
    "We can use this to either extract data, or to delete data.\n",
    "\n",
    "Let's take a look at the harness sizes, and delete the sex and age_years columns."
   ]
  },
  {
   "cell_type": "code",
   "execution_count": 10,
   "metadata": {},
   "outputs": [
    {
     "name": "stdout",
     "output_type": "stream",
     "text": [
      "TOP OF TABLE\n",
      "   boot_size  harness_size\n",
      "0         39            58\n",
      "1         38            58\n",
      "2         37            52\n",
      "3         39            58\n",
      "4         38            57\n",
      "\n",
      "BOTTOM OF TABLE\n",
      "    boot_size  harness_size\n",
      "45         41            57\n",
      "46         39            58\n",
      "47         39            57\n",
      "48         35            51\n",
      "49         39            59\n"
     ]
    }
   ],
   "source": [
    "# Print the data at the top of the table\n",
    "print(\"TOP OF TABLE\")\n",
    "print(dataset.head())\n",
    "\n",
    "# print the data at the bottom of the table\n",
    "print(\"\\nBOTTOM OF TABLE\")\n",
    "print(dataset.tail())"
   ]
  },
  {
   "cell_type": "markdown",
   "metadata": {},
   "source": [
    "We can also filter logically. For example, we can look at data for dogs who have a harness smaller than a size 55.\n",
    "\n",
    "This works by calculating a True or False value for each row, then keeping only those rows where the value is True."
   ]
  },
  {
   "cell_type": "code",
   "execution_count": 11,
   "metadata": {},
   "outputs": [
    {
     "name": "stdout",
     "output_type": "stream",
     "text": [
      "We have 50 rows of data\n",
      "\n",
      "Whether the dog's harness was smaller than size 55:\n",
      "0     False\n",
      "1     False\n",
      "2      True\n",
      "3     False\n",
      "4     False\n",
      "5      True\n",
      "6     False\n",
      "7      True\n",
      "8      True\n",
      "9      True\n",
      "10    False\n",
      "11    False\n",
      "12     True\n",
      "13    False\n",
      "14    False\n",
      "15    False\n",
      "16    False\n",
      "17     True\n",
      "18     True\n",
      "19    False\n",
      "20    False\n",
      "21    False\n",
      "22    False\n",
      "23     True\n",
      "24    False\n",
      "25     True\n",
      "26     True\n",
      "27     True\n",
      "28    False\n",
      "29    False\n",
      "30    False\n",
      "31    False\n",
      "32    False\n",
      "33    False\n",
      "34    False\n",
      "35    False\n",
      "36     True\n",
      "37    False\n",
      "38    False\n",
      "39    False\n",
      "40    False\n",
      "41     True\n",
      "42     True\n",
      "43    False\n",
      "44    False\n",
      "45    False\n",
      "46    False\n",
      "47    False\n",
      "48     True\n",
      "49    False\n",
      "Name: harness_size, dtype: bool\n",
      "\n",
      "Data for dogs with harness smaller than size 55:\n",
      "    boot_size  harness_size\n",
      "2          37            52\n",
      "5          35            52\n",
      "7          36            53\n",
      "8          35            49\n",
      "9          40            54\n",
      "12         38            53\n",
      "17         36            51\n",
      "18         35            50\n",
      "23         35            50\n",
      "25         36            52\n",
      "26         35            53\n",
      "27         39            54\n",
      "36         36            53\n",
      "41         35            51\n",
      "42         36            52\n",
      "48         35            51\n",
      "\n",
      "Number of dogs with harness size less than 55: 16\n"
     ]
    }
   ],
   "source": [
    "# Print how many rows of data we have\n",
    "# The f-string is used to format the output, inserting the length of the dataset into the message.\n",
    "print(f\"We have {len(dataset)} rows of data\")\n",
    "\n",
    "# Determine whether each avalanche dog's harness size is < 55\n",
    "# This creates a True or False value for each row where True means \n",
    "# they are smaller than 55\n",
    "# dataset.harness_size < 55 creates a series of True or False values for each row (dog) in the dataset. If the harness size is less than 55, it will be True; otherwise, it will be False.\n",
    "is_small = dataset.harness_size < 55\n",
    "print(\"\\nWhether the dog's harness was smaller than size 55:\")\n",
    "print(is_small)\n",
    "\n",
    "# Now apply this 'mask' to our data to keep the smaller dogs\n",
    "# This applies the boolean mask is_small to the dataset. When you pass a boolean array (like is_small) to the DataFrame dataset, it keeps only the rows where the value in is_small is True.\n",
    "data_from_small_dogs = dataset[is_small]\n",
    "print(\"\\nData for dogs with harness smaller than size 55:\")\n",
    "print(data_from_small_dogs)\n",
    "\n",
    "# Print the number of small dogs\n",
    "print(f\"\\nNumber of dogs with harness size less than 55: {len(data_from_small_dogs)}\")"
   ]
  },
  {
   "cell_type": "code",
   "execution_count": 12,
   "metadata": {},
   "outputs": [
    {
     "name": "stdout",
     "output_type": "stream",
     "text": [
      "We now have 34 rows in our dataset. The last few rows are:\n"
     ]
    },
    {
     "data": {
      "text/html": [
       "<div>\n",
       "<style scoped>\n",
       "    .dataframe tbody tr th:only-of-type {\n",
       "        vertical-align: middle;\n",
       "    }\n",
       "\n",
       "    .dataframe tbody tr th {\n",
       "        vertical-align: top;\n",
       "    }\n",
       "\n",
       "    .dataframe thead th {\n",
       "        text-align: right;\n",
       "    }\n",
       "</style>\n",
       "<table border=\"1\" class=\"dataframe\">\n",
       "  <thead>\n",
       "    <tr style=\"text-align: right;\">\n",
       "      <th></th>\n",
       "      <th>boot_size</th>\n",
       "      <th>harness_size</th>\n",
       "    </tr>\n",
       "  </thead>\n",
       "  <tbody>\n",
       "    <tr>\n",
       "      <th>42</th>\n",
       "      <td>36</td>\n",
       "      <td>52</td>\n",
       "    </tr>\n",
       "    <tr>\n",
       "      <th>46</th>\n",
       "      <td>39</td>\n",
       "      <td>58</td>\n",
       "    </tr>\n",
       "    <tr>\n",
       "      <th>47</th>\n",
       "      <td>39</td>\n",
       "      <td>57</td>\n",
       "    </tr>\n",
       "    <tr>\n",
       "      <th>48</th>\n",
       "      <td>35</td>\n",
       "      <td>51</td>\n",
       "    </tr>\n",
       "    <tr>\n",
       "      <th>49</th>\n",
       "      <td>39</td>\n",
       "      <td>59</td>\n",
       "    </tr>\n",
       "  </tbody>\n",
       "</table>\n",
       "</div>"
      ],
      "text/plain": [
       "    boot_size  harness_size\n",
       "42         36            52\n",
       "46         39            58\n",
       "47         39            57\n",
       "48         35            51\n",
       "49         39            59"
      ]
     },
     "execution_count": 12,
     "metadata": {},
     "output_type": "execute_result"
    }
   ],
   "source": [
    "# Make a copy of the dataset that only contains dogs with \n",
    "# a boot size below size 40\n",
    "# The call to copy() is optional but can help avoid unexpected\n",
    "# behaviour in more complex scenarios\n",
    "data_smaller_paws = dataset[dataset.boot_size < 40].copy()\n",
    "# dataset.boot_size < 40 creates a boolean mask, similar to the previous example, but this time checking for rows where the boot_size is less than 40.\n",
    "# .copy() creates a new copy of the filtered dataset to avoid issues with \"views\" (i.e., changes to this new dataset won’t affect the original one). While this is optional in simpler operations, it can be helpful in more complex data manipulations to prevent unintended side effects.\n",
    "# The resulting dataset data_smaller_paws now contains only rows for dogs with a boot size smaller than 40.\n",
    "# Print information about this\n",
    "print(f\"We now have {len(data_smaller_paws)} rows in our dataset. The last few rows are:\")\n",
    "data_smaller_paws.tail()"
   ]
  },
  {
   "cell_type": "markdown",
   "metadata": {},
   "source": [
    "Graph Data\n",
    "Graphing your data is often the easiest way to understand it.\n",
    "\n",
    "Lets make a simple graph of harness size versus boot size for our avalanche dogs with smaller feet."
   ]
  },
  {
   "cell_type": "code",
   "execution_count": 13,
   "metadata": {},
   "outputs": [
    {
     "data": {
      "text/plain": [
       "Text(0, 0.5, 'boot_size')"
      ]
     },
     "execution_count": 13,
     "metadata": {},
     "output_type": "execute_result"
    },
    {
     "data": {
      "image/png": "[encoded data removed]",
      "text/plain": [
       "<Figure size 640x480 with 1 Axes>"
      ]
     },
     "metadata": {},
     "output_type": "display_data"
    }
   ],
   "source": [
    "# Load and prepare matplotlib to use for plotting graphs\n",
    "import matplotlib.pyplot as plt\n",
    "\n",
    "\n",
    "# Show a graph of harness size by boot size:\n",
    "plt.scatter(data_smaller_paws[\"harness_size\"], data_smaller_paws[\"boot_size\"])\n",
    "\n",
    "# add labels\n",
    "plt.xlabel(\"harness_size\")\n",
    "plt.ylabel(\"boot_size\")\n",
    "\n",
    "# The scatter plot will show the distribution of dogs' boot sizes (y-axis) as a function of their harness sizes (x-axis) for those with a boot size below 40."
   ]
  },
  {
   "cell_type": "markdown",
   "metadata": {},
   "source": [
    "\n",
    "Create New Columns\n",
    "\n",
    "The preceding graph shows the relationship we want to investigate for our store, but some customers might want harness-size lists in inches, not centimeters. How can we view these harness sizes in imperial units?\n",
    "\n",
    "To do this, we need to create a new column called harness_size_imperial and put that on the X axis instead.\n",
    "\n",
    "Creating new columns uses very similar syntax to what we've seen before."
   ]
  },
  {
   "cell_type": "code",
   "execution_count": 14,
   "metadata": {},
   "outputs": [
    {
     "data": {
      "text/plain": [
       "Text(0, 0.5, 'boot_size')"
      ]
     },
     "execution_count": 14,
     "metadata": {},
     "output_type": "execute_result"
    },
    {
     "data": {
      "image/png": "[encoded data removed]",
      "text/plain": [
       "<Figure size 640x480 with 1 Axes>"
      ]
     },
     "metadata": {},
     "output_type": "display_data"
    }
   ],
   "source": [
    "# Convert harness sizes from metric to imperial units \n",
    "# and save the result to a new column\n",
    "data_smaller_paws['harness_size_imperial'] = data_smaller_paws.harness_size / 2.54\n",
    "# This line converts the harness_size from centimeters to inches. Since 1 inch equals 2.54 centimeters, dividing the harness_size by 2.54 converts the value into inches.\n",
    "# The converted values are stored in a new column called harness_size_imperial within the data_smaller_paws DataFrame.\n",
    "# The new column contains the same values as harness_size, but in inches.\n",
    "# Show a graph of harness size in imperial units\n",
    "# This creates a scatter plot with the new harness_size_imperial on the x-axis and boot_size on the y-axis.\n",
    "# Each point in the graph represents a dog from the data_smaller_paws dataset, where its boot size is plotted against its harness size in inches.\n",
    "plt.scatter(data_smaller_paws[\"harness_size_imperial\"], data_smaller_paws[\"boot_size\"])\n",
    "plt.xlabel(\"harness_size_imperial\")\n",
    "plt.ylabel(\"boot_size\")\n",
    "\n",
    "# Result:\n",
    "# This scatter plot will help visualize the relationship between the converted harness sizes (inches) and boot sizes (centimeters).\n",
    "# The new column harness_size_imperial will store the harness sizes in inches, making it easier to work with imperial units for further analysis or reporting.\n",
    "\n",
    "\n",
    "\n",
    "\n",
    "\n"
   ]
  },
  {
   "cell_type": "markdown",
   "metadata": {},
   "source": [
    "Exercise: Using a Trained Model on New Data\n",
    "\n",
    "In Unit 3, we created a basic model that let us find the relationship between a dog's harness size and their boot size. We showed we could then use this model to make a prediction about a new, previously unseen dog.\n",
    "\n",
    "It's common to build, train, then use a model while we're just learning about machine learning; but in the real world, we don't want to train the model every time we want to make a prediction.\n",
    "\n",
    "Consider our avalanche-dog equipment store scenario:\n",
    "\n",
    "We want to train the model just once, then load that model onto the server that runs our online store.\n",
    "Although the model is trained on a dataset we downloaded from the internet, we actually want to use it to estimate the boot size of our customers' dogs who aren't in this dataset!\n",
    "How can we do this?\n",
    "\n",
    "Here, we'll:\n",
    "\n",
    "Create a basic model.\n",
    "Save it to disk.\n",
    "Load it from disk.\n",
    "Use it to make predictions about a dog who was not in the training dataset.\n",
    "Load the dataset\n",
    "Let's begin by opening the dataset from file."
   ]
  },
  {
   "cell_type": "code",
   "execution_count": 16,
   "metadata": {},
   "outputs": [
    {
     "data": {
      "text/html": [
       "<div>\n",
       "<style scoped>\n",
       "    .dataframe tbody tr th:only-of-type {\n",
       "        vertical-align: middle;\n",
       "    }\n",
       "\n",
       "    .dataframe tbody tr th {\n",
       "        vertical-align: top;\n",
       "    }\n",
       "\n",
       "    .dataframe thead th {\n",
       "        text-align: right;\n",
       "    }\n",
       "</style>\n",
       "<table border=\"1\" class=\"dataframe\">\n",
       "  <thead>\n",
       "    <tr style=\"text-align: right;\">\n",
       "      <th></th>\n",
       "      <th>boot_size</th>\n",
       "      <th>harness_size</th>\n",
       "      <th>sex</th>\n",
       "      <th>age_years</th>\n",
       "    </tr>\n",
       "  </thead>\n",
       "  <tbody>\n",
       "    <tr>\n",
       "      <th>0</th>\n",
       "      <td>39</td>\n",
       "      <td>58</td>\n",
       "      <td>male</td>\n",
       "      <td>12.0</td>\n",
       "    </tr>\n",
       "    <tr>\n",
       "      <th>1</th>\n",
       "      <td>38</td>\n",
       "      <td>58</td>\n",
       "      <td>male</td>\n",
       "      <td>9.6</td>\n",
       "    </tr>\n",
       "    <tr>\n",
       "      <th>2</th>\n",
       "      <td>37</td>\n",
       "      <td>52</td>\n",
       "      <td>female</td>\n",
       "      <td>8.6</td>\n",
       "    </tr>\n",
       "    <tr>\n",
       "      <th>3</th>\n",
       "      <td>39</td>\n",
       "      <td>58</td>\n",
       "      <td>male</td>\n",
       "      <td>10.2</td>\n",
       "    </tr>\n",
       "    <tr>\n",
       "      <th>4</th>\n",
       "      <td>38</td>\n",
       "      <td>57</td>\n",
       "      <td>male</td>\n",
       "      <td>7.8</td>\n",
       "    </tr>\n",
       "  </tbody>\n",
       "</table>\n",
       "</div>"
      ],
      "text/plain": [
       "   boot_size  harness_size     sex  age_years\n",
       "0         39            58    male       12.0\n",
       "1         38            58    male        9.6\n",
       "2         37            52  female        8.6\n",
       "3         39            58    male       10.2\n",
       "4         38            57    male        7.8"
      ]
     },
     "execution_count": 16,
     "metadata": {},
     "output_type": "execute_result"
    }
   ],
   "source": [
    "import pandas\n",
    "\n",
    "# Load a file containing dog's boot and harness sizes\n",
    "data = pandas.read_csv('doggy_boot_harness.csv')\n",
    "\n",
    "# Print the first few rows\n",
    "data.head()\n"
   ]
  },
  {
   "cell_type": "markdown",
   "metadata": {},
   "source": [
    "Create and train a model\n",
    "\n",
    "As we've done before, we create a simple Linear Regression model and train it on our dataset."
   ]
  },
  {
   "cell_type": "code",
   "execution_count": 17,
   "metadata": {},
   "outputs": [
    {
     "name": "stdout",
     "output_type": "stream",
     "text": [
      "Model trained!\n"
     ]
    }
   ],
   "source": [
    "import statsmodels.formula.api as smf\n",
    "\n",
    "# Fit a simple model that finds a linear relationship\n",
    "# between boot size and harness size, which we can use later\n",
    "# to predict a dog's boot size, given their harness size\n",
    "model = smf.ols(formula = \"boot_size ~ harness_size\", data = data).fit()\n",
    "\n",
    "print(\"Model trained!\")"
   ]
  },
  {
   "cell_type": "markdown",
   "metadata": {},
   "source": [
    "smf.ols() is used to define the OLS regression model.\n",
    "\n",
    "The formula = \"boot_size ~ harness_size\" tells the model that boot_size is the dependent variable (the one we are trying to predict), and harness_size is the independent variable (the one we use to make the prediction).\n",
    "\n",
    "data = data indicates that the input data (likely the dataset) is passed into the model.\n",
    "\n",
    ".fit() fits the model to the data, meaning it finds the best-fitting linear equation that describes the relationship between boot_size and harness_size based on the dataset."
   ]
  },
  {
   "cell_type": "code",
   "execution_count": null,
   "metadata": {},
   "outputs": [],
   "source": []
  },
  {
   "cell_type": "markdown",
   "metadata": {},
   "source": [
    "What Does the Model Do?\n",
    "Linear Relationship: The model finds the best-fitting line that predicts the boot_size of a dog based on its harness_size. This means that, once trained, you can use this model to predict a dog's boot size given only the harness size.\n",
    "Equation: Behind the scenes, the model calculates an equation of the form: \\text{boot_size} = \\beta_0 + \\beta_1 \\times \\text{harness_size} Where:\n",
    "𝛽\n",
    "0\n",
    "β \n",
    "0\n",
    "​\n",
    "  is the intercept (the value of boot_size when harness_size is 0).\n",
    "𝛽\n",
    "1\n",
    "β \n",
    "1\n",
    "​\n",
    "  is the slope (the change in boot_size for each unit increase in harness_size).\n",
    "Use Cases for This Model:\n",
    "Prediction: After training, this model can be used to predict the boot size of dogs based on their harness size. For example, if you know a dog's harness size, you can predict its boot size using the trained model.\n",
    "Insights: The model can provide insights into how strongly harness_size influences boot_size. You could interpret the slope \n",
    "𝛽\n",
    "1\n",
    "β \n",
    "1\n",
    "​\n",
    "  to understand how much boot size changes with a change in harness size.\n"
   ]
  },
  {
   "cell_type": "code",
   "execution_count": null,
   "metadata": {},
   "outputs": [],
   "source": []
  },
  {
   "cell_type": "markdown",
   "metadata": {},
   "source": [
    "Save and load a model\n",
    "\n",
    "Our model is ready to use, but we don't need it yet. Let's save it to disk."
   ]
  },
  {
   "cell_type": "code",
   "execution_count": 18,
   "metadata": {},
   "outputs": [
    {
     "name": "stdout",
     "output_type": "stream",
     "text": [
      "Model saved!\n"
     ]
    }
   ],
   "source": [
    "import joblib\n",
    "\n",
    "model_filename = './avalanche_dog_boot_model.pkl'\n",
    "joblib.dump(model, model_filename)\n",
    "\n",
    "print(\"Model saved!\")"
   ]
  },
  {
   "cell_type": "code",
   "execution_count": 19,
   "metadata": {},
   "outputs": [
    {
     "name": "stdout",
     "output_type": "stream",
     "text": [
      "We have loaded a model with the following parameters:\n",
      "Intercept       5.719110\n",
      "harness_size    0.585925\n",
      "dtype: float64\n"
     ]
    }
   ],
   "source": [
    "model_loaded = joblib.load(model_filename)\n",
    "\n",
    "print(\"We have loaded a model with the following parameters:\")\n",
    "print(model_loaded.params)"
   ]
  },
  {
   "cell_type": "markdown",
   "metadata": {},
   "source": [
    "Put it together\n",
    "\n",
    "On our website, we want to take the harness of our customer's dog, then calculate their dog's boot size using the model that we've already trained.\n",
    "\n",
    "Let's put everything here together to make a function that loads the model from disk, then uses it to predict our customer's dog's boot size."
   ]
  },
  {
   "cell_type": "code",
   "execution_count": 21,
   "metadata": {},
   "outputs": [
    {
     "name": "stdout",
     "output_type": "stream",
     "text": [
      "We've loaded a model with the following parameters:\n",
      "Intercept       5.719110\n",
      "harness_size    0.585925\n",
      "dtype: float64\n",
      "Predicted dog boot size: 32.08575356590478\n"
     ]
    }
   ],
   "source": [
    "# Let's write a function that loads and uses our model\n",
    "def load_model_and_predict(harness_size):\n",
    "    '''\n",
    "    This function loads a pretrained model. It uses the model\n",
    "    with the customer's dog's harness size to predict the size of\n",
    "    boots that will fit that dog.\n",
    "\n",
    "    harness_size: The dog harness size, in cm \n",
    "    '''\n",
    "\n",
    "    # Load the model from file and print basic information about it\n",
    "    loaded_model = joblib.load(model_filename)\n",
    "\n",
    "    print(\"We've loaded a model with the following parameters:\")\n",
    "    print(loaded_model.params)\n",
    "\n",
    "    # Prepare data for the model\n",
    "    inputs = {\"harness_size\":[harness_size]} \n",
    "\n",
    "    # Use the model to make a prediction\n",
    "    predicted_boot_size = loaded_model.predict(inputs)[0]\n",
    "\n",
    "    return predicted_boot_size\n",
    "\n",
    "# Practice using our model\n",
    "predicted_boot_size = load_model_and_predict(45)\n",
    "\n",
    "print(\"Predicted dog boot size:\", predicted_boot_size)"
   ]
  },
  {
   "cell_type": "markdown",
   "metadata": {},
   "source": [
    "Real-world use\n",
    "\n",
    "We've done it; we can predict an avalanche dog's boot size based on the size of their harness. Our last step is to use this to warn people if they might be buying the wrong size doggy boots.\n",
    "\n",
    "As an example, we make a function that accepts the harness size and the size of the boots selected, then returns a message for the customer. We'd integrate this function into our online store."
   ]
  },
  {
   "cell_type": "code",
   "execution_count": 23,
   "metadata": {},
   "outputs": [
    {
     "name": "stdout",
     "output_type": "stream",
     "text": [
      "We've loaded a model with the following parameters:\n",
      "Intercept       5.719110\n",
      "harness_size    0.585925\n",
      "dtype: float64\n"
     ]
    },
    {
     "data": {
      "text/plain": [
       "'The boots you have selected might be TOO BIG for a dog as small as yours. We recommend a doggy boots size of 38.'"
      ]
     },
     "execution_count": 23,
     "metadata": {},
     "output_type": "execute_result"
    }
   ],
   "source": [
    "def check_size_of_boots(selected_harness_size, selected_boot_size):\n",
    "    '''\n",
    "    Calculates whether the customer has chosen a pair of doggy boots that \n",
    "    are a sensible size. This works by estimating the dog's actual boot \n",
    "    size from their harness size.\n",
    "\n",
    "    This returns a message for the customer that should be shown before\n",
    "    they complete their payment \n",
    "\n",
    "    selected_harness_size: The size of the harness the customer wants to buy\n",
    "    selected_boot_size: The size of the doggy boots the customer wants to buy\n",
    "    '''\n",
    "\n",
    "    # Estimate the customer's dog's boot size\n",
    "    estimated_boot_size = load_model_and_predict(selected_harness_size)\n",
    "\n",
    "    # Round to the nearest whole number because we don't sell partial sizes\n",
    "    estimated_boot_size = int(round(estimated_boot_size))\n",
    "\n",
    "    # Check if the boot size selected is appropriate\n",
    "    if selected_boot_size == estimated_boot_size:\n",
    "        # The selected boots are probably OK\n",
    "        return f\"Great choice! We think these boots will fit your avalanche dog well.\"\n",
    "\n",
    "    if selected_boot_size < estimated_boot_size:\n",
    "        # Selected boots might be too small \n",
    "        return \"The boots you have selected might be TOO SMALL for a dog as \"\\\n",
    "               f\"big as yours. We recommend a doggy boots size of {estimated_boot_size}.\"\n",
    "\n",
    "    if selected_boot_size > estimated_boot_size:\n",
    "        # Selected boots might be too big \n",
    "        return \"The boots you have selected might be TOO BIG for a dog as \"\\\n",
    "               f\"small as yours. We recommend a doggy boots size of {estimated_boot_size}.\"\n",
    "# Practice using our new warning system\n",
    "check_size_of_boots(selected_harness_size=55, selected_boot_size=39)"
   ]
  },
  {
   "cell_type": "markdown",
   "metadata": {},
   "source": [
    "Summary\n",
    "Completed\n",
    "100 XP\n",
    "3 minutes\n",
    "We covered some significant new jargon in this module. Let's recap what we've learned:\n",
    "\n",
    "The goal of machine learning is to find patterns in data and use these patterns to make estimates.\n",
    "\n",
    "Machine learning differs from normal software development in that we use special code, rather than our own intuition, to improve how well the software works.\n",
    "\n",
    "The learning process conceptually uses four components:\n",
    "\n",
    "Data, which is information we want to learn from.\n",
    "A model, which makes estimates about the data.\n",
    "An objective the model is trying to achieve.\n",
    "An optimizer, extra code that changes the model depending on its performance.\n",
    "You can think of data as features and labels. Features correspond to potential model inputs, while labels correspond to model outputs, or desired model outputs.\n",
    "\n",
    "Pandas and Plotly are powerful tools to explore datasets in Python.\n",
    "\n",
    "Once we have a trained model, we can save it to disk for later use."
   ]
  },
  {
   "cell_type": "code",
   "execution_count": null,
   "metadata": {},
   "outputs": [],
   "source": []
  },
  {
   "cell_type": "code",
   "execution_count": null,
   "metadata": {},
   "outputs": [],
   "source": []
  },
  {
   "cell_type": "code",
   "execution_count": null,
   "metadata": {},
   "outputs": [],
   "source": [
    " "
   ]
  },
  {
   "cell_type": "markdown",
   "metadata": {},
   "source": [
    "Build classical machine learning models with supervised learning"
   ]
  },
  {
   "attachments": {
    "image.png": {
     "image/png": "[encoded data removed]"
    }
   },
   "cell_type": "markdown",
   "metadata": {},
   "source": [
    "Define supervised learning\n",
    "Completed\n",
    "100 XP\n",
    "4 minutes\n",
    "The process of training a model can be either supervised or unsupervised. Our goal here is to contrast these approaches, then take a deeper dive into the learning process with a focus on supervised learning. It's worth remembering throughout this discussion that the only difference between supervised and unsupervised learning is how the objective function works.\n",
    "\n",
    "What is unsupervised learning?\n",
    "In unsupervised learning, we train a model to solve a problem without us knowing the correct answer. In fact, unsupervised learning is typically used for problems where there isn't one correct answer, but instead, better and worse solutions.\n",
    "\n",
    "Imagine that we want our machine-learning model to draw realistic pictures of avalanche rescue dogs. There isn't one \"correct\" drawing to draw. As long as the image looks somewhat like a dog, we'll be satisfied. But if the produced image is of a cat, that's a worse solution.\n",
    "\n",
    "Recall that training requires several components:\n",
    "\n",
    "Diagram of the model and objective function parts of the machine-learning lifecycle.\n",
    "\n",
    "In unsupervised learning, the objective function makes its judgment purely on the model's estimate. That means the objective function often needs to be relatively sophisticated. For example, the objective function might need to contain a \"dog detector\" to assess if images that the model draws look realistic. The only data that we need for unsupervised learning is about features that we provide to the model.\n",
    "\n",
    "What is supervised learning?\n",
    "Think of supervised learning as learning by example. In supervised learning, we assess the model's performance by comparing its estimates to the correct answer. Although we can have simple objective functions, we need both:\n",
    "\n",
    "Features that are provided as inputs to the model\n",
    "Labels, which are the correct answers that we want the model to be able to produce\n",
    "Diagram of the model and objective function parts of the machine-learning lifecycle, with labels.\n",
    "\n",
    "For example, consider our desire to predict what the temperature will be on January 31 of a given year. For this prediction, we'll need data with two components:\n",
    "\n",
    "Feature: Date\n",
    "Label: Daily temperature (for example, from historical records)\n",
    "In the scenario, we provide the date feature to the model. The model predicts the temperature, and we compare this result to the dataset's \"correct\" temperature. The objective function can then calculate how well the model worked, and we can make adjustments to the model.\n",
    "\n",
    "Labels are only for learning\n",
    "It's important to remember that no matter how models are trained, they only process features. During supervised learning, the objective function is the only component that relies on access to labels. After training, we don't need labels to use our model.\n",
    "\n",
    "![image.png](attachment:image.png)"
   ]
  },
  {
   "cell_type": "markdown",
   "metadata": {},
   "source": []
  },
  {
   "cell_type": "markdown",
   "metadata": {},
   "source": [
    "Implement supervised learning"
   ]
  },
  {
   "cell_type": "code",
   "execution_count": 27,
   "metadata": {},
   "outputs": [
    {
     "data": {
      "text/html": [
       "<div>\n",
       "<style scoped>\n",
       "    .dataframe tbody tr th:only-of-type {\n",
       "        vertical-align: middle;\n",
       "    }\n",
       "\n",
       "    .dataframe tbody tr th {\n",
       "        vertical-align: top;\n",
       "    }\n",
       "\n",
       "    .dataframe thead th {\n",
       "        text-align: right;\n",
       "    }\n",
       "</style>\n",
       "<table border=\"1\" class=\"dataframe\">\n",
       "  <thead>\n",
       "    <tr style=\"text-align: right;\">\n",
       "      <th></th>\n",
       "      <th>DATE</th>\n",
       "      <th>PRCP</th>\n",
       "      <th>TMAX</th>\n",
       "      <th>TMIN</th>\n",
       "      <th>RAIN</th>\n",
       "    </tr>\n",
       "  </thead>\n",
       "  <tbody>\n",
       "    <tr>\n",
       "      <th>0</th>\n",
       "      <td>1948-01-01</td>\n",
       "      <td>0.47</td>\n",
       "      <td>51</td>\n",
       "      <td>42</td>\n",
       "      <td>True</td>\n",
       "    </tr>\n",
       "    <tr>\n",
       "      <th>1</th>\n",
       "      <td>1948-01-02</td>\n",
       "      <td>0.59</td>\n",
       "      <td>45</td>\n",
       "      <td>36</td>\n",
       "      <td>True</td>\n",
       "    </tr>\n",
       "    <tr>\n",
       "      <th>2</th>\n",
       "      <td>1948-01-03</td>\n",
       "      <td>0.42</td>\n",
       "      <td>45</td>\n",
       "      <td>35</td>\n",
       "      <td>True</td>\n",
       "    </tr>\n",
       "    <tr>\n",
       "      <th>3</th>\n",
       "      <td>1948-01-04</td>\n",
       "      <td>0.31</td>\n",
       "      <td>45</td>\n",
       "      <td>34</td>\n",
       "      <td>True</td>\n",
       "    </tr>\n",
       "    <tr>\n",
       "      <th>4</th>\n",
       "      <td>1948-01-05</td>\n",
       "      <td>0.17</td>\n",
       "      <td>45</td>\n",
       "      <td>32</td>\n",
       "      <td>True</td>\n",
       "    </tr>\n",
       "    <tr>\n",
       "      <th>...</th>\n",
       "      <td>...</td>\n",
       "      <td>...</td>\n",
       "      <td>...</td>\n",
       "      <td>...</td>\n",
       "      <td>...</td>\n",
       "    </tr>\n",
       "    <tr>\n",
       "      <th>25229</th>\n",
       "      <td>2017-01-27</td>\n",
       "      <td>0.00</td>\n",
       "      <td>54</td>\n",
       "      <td>37</td>\n",
       "      <td>False</td>\n",
       "    </tr>\n",
       "    <tr>\n",
       "      <th>25230</th>\n",
       "      <td>2017-01-28</td>\n",
       "      <td>0.00</td>\n",
       "      <td>52</td>\n",
       "      <td>37</td>\n",
       "      <td>False</td>\n",
       "    </tr>\n",
       "    <tr>\n",
       "      <th>25231</th>\n",
       "      <td>2017-01-29</td>\n",
       "      <td>0.03</td>\n",
       "      <td>48</td>\n",
       "      <td>37</td>\n",
       "      <td>True</td>\n",
       "    </tr>\n",
       "    <tr>\n",
       "      <th>25232</th>\n",
       "      <td>2017-01-30</td>\n",
       "      <td>0.02</td>\n",
       "      <td>45</td>\n",
       "      <td>40</td>\n",
       "      <td>True</td>\n",
       "    </tr>\n",
       "    <tr>\n",
       "      <th>25233</th>\n",
       "      <td>2017-01-31</td>\n",
       "      <td>0.00</td>\n",
       "      <td>44</td>\n",
       "      <td>34</td>\n",
       "      <td>False</td>\n",
       "    </tr>\n",
       "  </tbody>\n",
       "</table>\n",
       "<p>2170 rows × 5 columns</p>\n",
       "</div>"
      ],
      "text/plain": [
       "            DATE  PRCP  TMAX  TMIN   RAIN\n",
       "0     1948-01-01  0.47    51    42   True\n",
       "1     1948-01-02  0.59    45    36   True\n",
       "2     1948-01-03  0.42    45    35   True\n",
       "3     1948-01-04  0.31    45    34   True\n",
       "4     1948-01-05  0.17    45    32   True\n",
       "...          ...   ...   ...   ...    ...\n",
       "25229 2017-01-27  0.00    54    37  False\n",
       "25230 2017-01-28  0.00    52    37  False\n",
       "25231 2017-01-29  0.03    48    37   True\n",
       "25232 2017-01-30  0.02    45    40   True\n",
       "25233 2017-01-31  0.00    44    34  False\n",
       "\n",
       "[2170 rows x 5 columns]"
      ]
     },
     "execution_count": 27,
     "metadata": {},
     "output_type": "execute_result"
    }
   ],
   "source": [
    "import pandas\n",
    "\n",
    "# Load a file that contains weather data for Seattle\n",
    "data = pandas.read_csv('seattleWeather_1948-2017.csv', parse_dates=['DATE'])\n",
    "\n",
    "# Keep only January temperatures\n",
    "data = data[[d.month == 1 for d in data.DATE]].copy()\n",
    "\n",
    "\n",
    "# Print the first and last few rows\n",
    "# Remember that with Jupyter notebooks, the last line of \n",
    "# code is automatically printed\n",
    "data"
   ]
  },
  {
   "cell_type": "markdown",
   "metadata": {},
   "source": [
    "We have data from 1948 to 2017, split across 2,170 rows.\n",
    "\n",
    "We'll analyze the relationship between date and daily minimum temperatures. Let's take a quick look at our data as a graph."
   ]
  },
  {
   "cell_type": "code",
   "execution_count": 30,
   "metadata": {},
   "outputs": [
    {
     "name": "stderr",
     "output_type": "stream",
     "text": [
      "C:\\Users\\USER\\AppData\\Local\\Temp\\ipykernel_12272\\952363523.py:11: UserWarning: No artists with labels found to put in legend.  Note that artists whose label start with an underscore are ignored when legend() is called with no argument.\n",
      "  plt.legend()\n"
     ]
    },
    {
     "data": {
      "text/plain": [
       "<matplotlib.legend.Legend at 0x1b349ee5790>"
      ]
     },
     "execution_count": 30,
     "metadata": {},
     "output_type": "execute_result"
    },
    {
     "data": {
      "image/png": "[encoded data removed]",
      "text/plain": [
       "<Figure size 640x480 with 1 Axes>"
      ]
     },
     "metadata": {},
     "output_type": "display_data"
    }
   ],
   "source": [
    "import matplotlib.pyplot as plt\n",
    "\n",
    "# Let's take a quick look at our data\n",
    "\n",
    "plt.scatter(data[\"DATE\"], data[\"TMIN\"])\n",
    "\n",
    "# add labels and legend\n",
    "plt.xlabel(\"DATE\")\n",
    "plt.ylabel(\"TMIN\")\n",
    "plt.title(\"January Temperatures (°F)\")\n",
    "plt.legend()"
   ]
  },
  {
   "cell_type": "markdown",
   "metadata": {},
   "source": [
    "Machine learning usually works best when the X and Y axes have roughly the same range of values. We'll cover why in later learning material. For now, let's just scale our data slightly."
   ]
  },
  {
   "cell_type": "code",
   "execution_count": 32,
   "metadata": {},
   "outputs": [
    {
     "name": "stderr",
     "output_type": "stream",
     "text": [
      "C:\\Users\\USER\\AppData\\Local\\Temp\\ipykernel_12272\\2432021917.py:18: UserWarning: No artists with labels found to put in legend.  Note that artists whose label start with an underscore are ignored when legend() is called with no argument.\n",
      "  plt.legend()\n"
     ]
    },
    {
     "data": {
      "text/plain": [
       "<matplotlib.legend.Legend at 0x1b34ea85910>"
      ]
     },
     "execution_count": 32,
     "metadata": {},
     "output_type": "execute_result"
    },
    {
     "data": {
      "image/png": "[encoded data removed]",
      "text/plain": [
       "<Figure size 640x480 with 1 Axes>"
      ]
     },
     "metadata": {},
     "output_type": "display_data"
    }
   ],
   "source": [
    "import numpy as np\n",
    "\n",
    "# This block of code scales and offsets the data slightly, which helps the training process\n",
    "# You don't need to understand this code. We'll cover these concepts in later learning material\n",
    "\n",
    "# Offset date into number of years since 1982\n",
    "data[\"years_since_1982\"] = [(d.year + d.timetuple().tm_yday / 365.25) - 1982 for d in data.DATE]\n",
    "\n",
    "# Scale and offset temperature so that it has a smaller range of values\n",
    "data[\"normalised_temperature\"] = (data[\"TMIN\"] - np.mean(data[\"TMIN\"])) / np.std(data[\"TMIN\"])\n",
    "\n",
    "# Graph\n",
    "plt.scatter(data[\"years_since_1982\"], data[\"normalised_temperature\"])\n",
    "# add labels and legend\n",
    "plt.xlabel(\"years_since_1982\")\n",
    "plt.ylabel(\"normalised_temperature\")\n",
    "plt.title(\"January Temperatures (Normalised)\")\n",
    "plt.legend()"
   ]
  },
  {
   "cell_type": "markdown",
   "metadata": {},
   "source": [
    "No worries! Let me break it down in simpler terms. Think of this code as a way to organize and display your data in a simpler form, so that it's easier to analyze. Let’s go step by step.\n",
    "\n",
    "### What the code is doing:\n",
    "\n",
    "1. **Step 1: Importing NumPy**\n",
    "   ```python\n",
    "   import numpy as np\n",
    "   ```\n",
    "   - NumPy is a toolkit that helps with math, especially when working with numbers in lists (like temperature data).\n",
    "\n",
    "---\n",
    "\n",
    "2. **Step 2: Turning Dates into Numbers (Years Since 1982)**\n",
    "   ```python\n",
    "   data[\"years_since_1982\"] = [(d.year + d.timetuple().tm_yday / 365.25) - 1982 for d in data.date]\n",
    "   ```\n",
    "   - Imagine you have a list of dates, but instead of working with full dates (like “January 1, 1995”), the code just wants to count how many years have passed since 1982.\n",
    "   - The code takes each date, figures out what year it is, and calculates how far it is from 1982.\n",
    "   - Example: \n",
    "     - If a date is in 1983, the code would return `1` (because it’s 1 year after 1982).\n",
    "     - If a date is in 1990, it would return `8` (because it’s 8 years after 1982).\n",
    "\n",
    "   **Goal**: Instead of complicated dates, you now have simple numbers like 0, 1, 2, etc., which represent how many years have passed since 1982.\n",
    "\n",
    "---\n",
    "\n",
    "3. **Step 3: Making the Temperatures Easier to Compare (Normalizing)**\n",
    "   ```python\n",
    "   data[\"normalised_temperature\"] = (data[\"min_temperature\"] - np.mean(data[\"min_temperature\"])) / np.std(data[\"min_temperature\"])\n",
    "   ```\n",
    "   - You have a bunch of temperatures, but they could be all over the place (some very high, some low).\n",
    "   - To make them easier to compare, the code first finds the **average temperature** (the center point) and then checks how far each temperature is from that average.\n",
    "   - The code also divides by the \"spread\" (how different the temperatures are from each other) to make the data more manageable.\n",
    "\n",
    "   **Example**:\n",
    "   - If your temperatures were: 10°C, 20°C, 30°C, and 40°C.\n",
    "   - After normalizing, the data might become: -1.5, -0.5, 0.5, 1.5. \n",
    "   - So now, the temperatures are all \"centered\" around zero and easier to compare.\n",
    "\n",
    "   **Goal**: Instead of raw temperatures, you now have values that make it easy to see how \"above\" or \"below\" the average they are.\n",
    "\n",
    "---\n",
    "\n",
    "4. **Step 4: Plotting the Data on a Graph**\n",
    "   ```python\n",
    "   plt.scatter(data[\"years_since_1982\"], data[\"normalised_temperature\"])\n",
    "   plt.xlabel(\"years_since_1982\")\n",
    "   plt.ylabel(\"normalised_temperature\")\n",
    "   plt.title(\"January Temperatures (Normalised)\")\n",
    "   plt.legend()\n",
    "   ```\n",
    "   - **Scatter Plot**: Imagine a graph where you place a dot for every piece of data. In this case:\n",
    "     - The x-axis (horizontal) shows how many years have passed since 1982.\n",
    "     - The y-axis (vertical) shows the normalized temperature (how far it is from the average).\n",
    "   - This graph helps you see trends or patterns in how temperatures have changed over time.\n",
    "\n",
    "   **Goal**: The scatter plot visually shows how temperatures (normalized) have changed since 1982.\n",
    "\n",
    "---\n",
    "\n",
    "### TL;DR:\n",
    "- **Dates**: Turn them into \"how many years since 1982.\"\n",
    "- **Temperatures**: Make them easier to compare by normalizing them.\n",
    "- **Graph**: Plot the years since 1982 against the normalized temperatures to see if there's a pattern over time.\n",
    "\n"
   ]
  },
  {
   "cell_type": "markdown",
   "metadata": {},
   "source": []
  },
  {
   "cell_type": "code",
   "execution_count": null,
   "metadata": {},
   "outputs": [],
   "source": []
  },
  {
   "cell_type": "markdown",
   "metadata": {},
   "source": [
    "This scatter plot shows the relationship between **years since 1982** and **normalized temperatures** for January.\n",
    "\n",
    "### Key Points:\n",
    "\n",
    "1. **X-Axis (years_since_1982)**:\n",
    "   - The x-axis represents how many years have passed since 1982.\n",
    "   - The value \"0\" on the x-axis represents the year 1982. \n",
    "   - Negative values indicate years before 1982, while positive values represent years after 1982.\n",
    "\n",
    "2. **Y-Axis (normalised_temperature)**:\n",
    "   - The y-axis shows the normalized temperature values. These are not actual temperatures but a scaled version of the original data.\n",
    "   - Normalization means the temperature data is centered around 0, with positive values representing temperatures above the average and negative values representing temperatures below the average.\n",
    "   \n",
    "3. **The Data Distribution**:\n",
    "   - The points seem scattered across the plot, with most values centered around 0 on the y-axis. \n",
    "   - There are fewer extreme values (very high or very low), meaning most temperatures are close to the average.\n",
    "   - The spread of the points looks fairly consistent across time, showing that the normalized temperature values fluctuate over time but without a clear increasing or decreasing trend.\n",
    "\n",
    "### What This Might Tell Us:\n",
    "- **No Strong Trend**: Based on the scatter, there doesn’t seem to be a clear upward or downward trend in normalized temperatures over the years. The points are scattered fairly evenly across the y-axis, suggesting temperatures have remained somewhat stable over time (at least in this normalized format).\n",
    "- **Outliers**: There are some extreme points (like those at around -5 or +2 on the y-axis), which suggest that there were some unusual cold or warm Januarys compared to the average.\n",
    "\n",
    "Overall, the plot gives a general sense of how January temperatures have fluctuated relative to the average, but it doesn't show a clear increasing or decreasing trend. The normalization process helps center the data to focus on deviations from the mean rather than the actual temperature values."
   ]
  },
  {
   "cell_type": "markdown",
   "metadata": {},
   "source": []
  },
  {
   "cell_type": "markdown",
   "metadata": {},
   "source": [
    "### 2. The model\n",
    "\n",
    "We'll select a simple linear-regression model. This model uses a line to make estimates. You might have come across trendlines like these before when making graphs."
   ]
  },
  {
   "cell_type": "code",
   "execution_count": 33,
   "metadata": {},
   "outputs": [
    {
     "name": "stdout",
     "output_type": "stream",
     "text": [
      "Model made!\n"
     ]
    }
   ],
   "source": [
    "class MyModel:\n",
    "\n",
    "    def __init__(self):\n",
    "        '''\n",
    "        Creates a new MyModel\n",
    "        '''\n",
    "        # Straight lines described by two parameters:\n",
    "        # The slope is the angle of the line\n",
    "        self.slope = 0\n",
    "        # The intercept moves the line up or down\n",
    "        self.intercept = 0\n",
    "\n",
    "    def predict(self, date):\n",
    "        '''\n",
    "        Estimates the temperature from the date\n",
    "        '''\n",
    "        return date * self.slope + self.intercept\n",
    "\n",
    "# Create our model ready to be trained\n",
    "model = MyModel()\n",
    "\n",
    "print(\"Model made!\")"
   ]
  },
  {
   "cell_type": "markdown",
   "metadata": {},
   "source": [
    "This code defines a simple model that can be used to predict temperatures based on a date, using a linear equation. Let me walk through it step by step:\n",
    "\n",
    "### 1. **Class Definition: `MyModel`**\n",
    "   - A class is like a blueprint for creating objects. Here, we are creating a model that represents a simple straight line.\n",
    "   \n",
    "### 2. **`__init__` Method (Initialization)**\n",
    "   ```python\n",
    "   def __init__(self):\n",
    "       '''\n",
    "       Creates a new MyModel\n",
    "       '''\n",
    "       # Straight lines described by two parameters:\n",
    "       # The slope is the angle of the line\n",
    "       self.slope = 0\n",
    "       # The intercept moves the line up or down\n",
    "       self.intercept = 0\n",
    "   ```\n",
    "   - The `__init__` method is a constructor. It is automatically called when a new object of `MyModel` is created.\n",
    "   - **Slope (`self.slope`)**: This determines the steepness of the line. Initially, it’s set to 0, which means the line is flat.\n",
    "   - **Intercept (`self.intercept`)**: This is the point where the line crosses the y-axis. It moves the line up or down. Initially set to 0, meaning the line passes through the origin (0,0).\n",
    "\n",
    "### 3. **`predict` Method**\n",
    "   ```python\n",
    "   def predict(self, date):\n",
    "       '''\n",
    "       Estimates the temperature from the date\n",
    "       '''\n",
    "       return date * self.slope + self.intercept\n",
    "   ```\n",
    "   - This method takes a date (or number representing time, like \"years since 1982\") and predicts a temperature based on the equation of a straight line: `y = mx + c`.\n",
    "     - `date * self.slope`: Multiplies the date (x) by the slope (m) to determine how much the temperature should change over time.\n",
    "     - `+ self.intercept`: Adds the intercept (c) to shift the line up or down.\n",
    "   - **Goal**: Given a date, it predicts a temperature using the line equation.\n",
    "\n",
    "### 4. **Creating a New Model**\n",
    "   ```python\n",
    "   model = MyModel()\n",
    "   print(\"Model made!\")\n",
    "   ```\n",
    "   - This creates an instance of the `MyModel` class, initializing the slope and intercept to zero.\n",
    "   - The `print()` statement confirms that the model has been created.\n",
    "\n",
    "### How It Works:\n",
    "- **Model**: This is a simple linear model, meaning it's designed to estimate the temperature based on time (in this case, dates). \n",
    "- **Prediction Formula**: `temperature = date * slope + intercept`. Initially, the slope and intercept are both 0, so it won't give meaningful predictions until you \"train\" or adjust those values.\n",
    "\n",
    "### Next Steps:\n",
    "- You would typically adjust the **slope** and **intercept** using training data (i.e., fitting the model to historical data) so that it can make more accurate predictions.\n",
    "\n",
    "### TL;DR:\n",
    "This is a simple linear model that, when trained, can predict temperatures based on time (dates) by using a straight line equation. Currently, it just creates the model and has the logic to make predictions, but it hasn't been trained yet."
   ]
  },
  {
   "cell_type": "code",
   "execution_count": 34,
   "metadata": {},
   "outputs": [],
   "source": [
    "# We wouldn't normally use a model before it's been trained, but for the sake of learning, let's take a quick look at it."
   ]
  },
  {
   "cell_type": "code",
   "execution_count": 35,
   "metadata": {},
   "outputs": [
    {
     "name": "stdout",
     "output_type": "stream",
     "text": [
      "Model parameters before training: 0, 0\n",
      "Model visualised before training:\n"
     ]
    },
    {
     "data": {
      "text/plain": [
       "<matplotlib.legend.Legend at 0x1b34ea56d50>"
      ]
     },
     "execution_count": 35,
     "metadata": {},
     "output_type": "execute_result"
    },
    {
     "data": {
      "image/png": "[encoded data removed]",
      "text/plain": [
       "<Figure size 640x480 with 1 Axes>"
      ]
     },
     "metadata": {},
     "output_type": "display_data"
    }
   ],
   "source": [
    "print(f\"Model parameters before training: {model.intercept}, {model.slope}\")\n",
    "\n",
    "# Look at how well the model does before training\n",
    "print(\"Model visualised before training:\")\n",
    "\n",
    "plt.scatter(data[\"years_since_1982\"], data[\"normalised_temperature\"])\n",
    "plt.plot(data[\"years_since_1982\"], model.predict(data[\"years_since_1982\"]), 'r', label='Fitted line')\n",
    "\n",
    "                                                 \n",
    "# add labels and legend\n",
    "plt.xlabel(\"years_since_1982\")\n",
    "plt.ylabel(\"normalised_temperature\")\n",
    "plt.legend()"
   ]
  },
  {
   "cell_type": "markdown",
   "metadata": {},
   "source": [
    "You can see that before training, our model (the red line) isn't useful at all. It always simply predicts zero.\n",
    "\n",
    "3. The cost (objective) function\n",
    "Our next step is to create a cost function (objective function).\n",
    "\n",
    "These functions in supervised learning compare the model's estimate to the correct answer. In our case, our label is temperature, so our cost function compares the estimated temperature to temperatures seen in the historical records."
   ]
  },
  {
   "cell_type": "code",
   "execution_count": 36,
   "metadata": {},
   "outputs": [],
   "source": [
    "def cost_function(actual_temperatures, estimated_temperatures):\n",
    "    '''\n",
    "    Calculates the difference between actual and estimated temperatures\n",
    "    Returns the difference, and also returns the squared difference (the cost)\n",
    "\n",
    "    actual_temperatures: One or more temperatures recorded in the past\n",
    "    estimated_temperatures: Corresponding temperature(s) estimated by the model\n",
    "    '''\n",
    "\n",
    "    # Calculate the difference between actual temperatures and those\n",
    "    # estimated by the model\n",
    "    difference = estimated_temperatures - actual_temperatures\n",
    "\n",
    "    # Convert to a single number that tells us how well the model did\n",
    "    # (smaller numbers are better)\n",
    "    cost = sum(difference ** 2)\n",
    "\n",
    "    return difference, cost"
   ]
  },
  {
   "cell_type": "markdown",
   "metadata": {},
   "source": [
    "This function, `cost_function`, calculates how well your model's predictions (estimated temperatures) compare to the actual recorded temperatures. Let’s break it down in detail:\n",
    "\n",
    "### What is the **Cost Function**?\n",
    "The cost function is a way to measure how good or bad your model’s predictions are. It looks at the difference between the **actual** and **predicted** temperatures and gives you a score. The lower the score (or \"cost\"), the better the model is at predicting the temperatures.\n",
    "\n",
    "### Step-by-Step Explanation:\n",
    "\n",
    "1. **Function Definition and Inputs**:\n",
    "   ```python\n",
    "   def cost_function(actual_temperatures, estimated_temperatures):\n",
    "       '''\n",
    "       Calculates the difference between actual and estimated temperatures\n",
    "       Returns the difference, and also returns the squared difference (the cost)\n",
    "\n",
    "       actual_temperatures: One or more temperatures recorded in the past\n",
    "       estimated_temperatures: Corresponding temperature(s) estimated by the model\n",
    "       '''\n",
    "   ```\n",
    "   - **`actual_temperatures`**: This is the true temperature data (from history).\n",
    "   - **`estimated_temperatures`**: These are the temperatures predicted by your model.\n",
    "\n",
    "   The goal is to compare these two arrays of temperatures (actual vs. estimated).\n",
    "\n",
    "2. **Difference Calculation**:\n",
    "   ```python\n",
    "   difference = estimated_temperatures - actual_temperatures\n",
    "   ```\n",
    "   - This line calculates the difference between each predicted temperature and the corresponding actual temperature.\n",
    "   - **Example**:\n",
    "     - Actual temperatures: `[15, 20, 25]`\n",
    "     - Estimated temperatures: `[14, 21, 23]`\n",
    "     - Difference: `[14 - 15, 21 - 20, 23 - 25] = [-1, +1, -2]`\n",
    "     - This tells us how far off the model’s prediction was for each temperature.\n",
    "\n",
    "3. **Cost Calculation (Squared Difference)**:\n",
    "   ```python\n",
    "   cost = sum(difference ** 2)\n",
    "   ```\n",
    "   - After calculating the difference, the code squares each difference. Squaring is important because:\n",
    "     - It ensures that all differences are positive (so under-predicting and over-predicting have the same weight).\n",
    "     - It penalizes larger errors more heavily than smaller ones (a difference of 5 becomes 25).\n",
    "   - Then, the code sums these squared differences to get a single **cost** value.\n",
    "\n",
    "   **Example**:\n",
    "   - Difference: `[-1, +1, -2]`\n",
    "   - Squared difference: `[(-1)^2, (+1)^2, (-2)^2] = [1, 1, 4]`\n",
    "   - Cost: `1 + 1 + 4 = 6`\n",
    "   \n",
    "   So, the **cost** is `6` in this example. The lower this number, the better your model's predictions are.\n",
    "\n",
    "4. **Return Values**:\n",
    "   ```python\n",
    "   return difference, cost\n",
    "   ```\n",
    "   - The function returns two things:\n",
    "     1. The **difference**: This is the array of differences between actual and estimated temperatures. You can use this for further analysis or to see where the model went wrong.\n",
    "     2. The **cost**: This single number tells you how well (or poorly) your model is performing. The smaller the cost, the more accurate your model.\n",
    "\n",
    "---\n",
    "\n",
    "### Summary:\n",
    "- **Difference**: How far off the model’s predictions are from the actual values.\n",
    "- **Cost**: The sum of squared differences, which tells you overall how accurate (or inaccurate) your model is.\n",
    "\n",
    "This cost function is crucial because it helps you quantify the performance of your model. Lowering this cost means your model is getting better at predicting temperatures accurately."
   ]
  },
  {
   "cell_type": "code",
   "execution_count": null,
   "metadata": {},
   "outputs": [],
   "source": []
  },
  {
   "cell_type": "markdown",
   "metadata": {},
   "source": [
    "### 4. The optimizer\n",
    "\n",
    "The optimizer's role is to guess new parameter values for the model. \n",
    "\n",
    "We haven't covered optimizers in detail yet, so to make things simple, we'll use an prewritten optimizer. You don't need to understand how this works, but if you're curious, you can find it in our GitHub repository. "
   ]
  },
  {
   "cell_type": "code",
   "execution_count": 38,
   "metadata": {},
   "outputs": [],
   "source": [
    "import sys\n",
    "sys.path.append('/path/to/m0b_optimizer/')\n"
   ]
  },
  {
   "cell_type": "code",
   "execution_count": 40,
   "metadata": {},
   "outputs": [
    {
     "name": "stdout",
     "output_type": "stream",
     "text": [
      "Training method ready\n"
     ]
    }
   ],
   "source": [
    "def train_one_iteration(model_inputs, true_temperatures, last_cost:float):\n",
    "    '''\n",
    "    Runs a single iteration of training.\n",
    "\n",
    "\n",
    "    model_inputs: One or more dates to provide the model (dates)\n",
    "    true_temperatues: Corresponding temperatures known to occur on those dates\n",
    "\n",
    "    Returns:\n",
    "        A Boolean, as to whether training should continue\n",
    "        The cost calculated (small numbers are better)\n",
    "    '''\n",
    "\n",
    "    # === USE THE MODEL ===\n",
    "    # Estimate temperatures for all data that we have\n",
    "    estimated_temperatures = model.predict(model_inputs)\n",
    "\n",
    "    # === OBJECTIVE FUNCTION ===\n",
    "    # Calculate how well the model is working\n",
    "    # Smaller numbers are better \n",
    "    difference, cost = cost_function(true_temperatures, estimated_temperatures)\n",
    "\n",
    "    # Decide whether to keep training\n",
    "    # We'll stop if the training is no longer improving the model effectively\n",
    "    if cost >= last_cost:\n",
    "        # Stop training\n",
    "        return False, cost\n",
    "    else:\n",
    "        # === OPTIMIZER ===\n",
    "        # Calculate updates to parameters\n",
    "        intercept_update, slope_update = optimizer.get_parameter_updates(model_inputs, cost, difference)\n",
    "\n",
    "        # Change the model parameters\n",
    "        model.slope += slope_update\n",
    "        model.intercept += intercept_update\n",
    "\n",
    "        return True, cost\n",
    "\n",
    "print(\"Training method ready\")"
   ]
  },
  {
   "cell_type": "markdown",
   "metadata": {},
   "source": [
    "The `train_one_iteration` function you've written performs a single iteration of training for a linear regression model. Let’s break it down:\n",
    "\n",
    "### Step-by-Step Explanation:\n",
    "\n",
    "#### Inputs:\n",
    "1. **`model_inputs`**: These are the dates you’re feeding into the model, representing the independent variable (X).\n",
    "2. **`true_temperatures`**: The actual temperature values corresponding to each date, representing the dependent variable (Y).\n",
    "3. **`last_cost`**: This is the cost (or error) from the previous training iteration, used to determine if the model is improving.\n",
    "\n",
    "#### Process:\n",
    "\n",
    "1. **Model Prediction**:\n",
    "   ```python\n",
    "   estimated_temperatures = model.predict(model_inputs)\n",
    "   ```\n",
    "   - The model predicts the temperature for the given dates (`model_inputs`). These predictions will be compared to the actual temperatures (`true_temperatures`) to measure how well the model is doing.\n",
    "\n",
    "2. **Objective Function**:\n",
    "   ```python\n",
    "   difference, cost = cost_function(true_temperatures, estimated_temperatures)\n",
    "   ```\n",
    "   - The `cost_function` calculates:\n",
    "     - **`difference`**: The difference between the predicted temperatures and the actual temperatures.\n",
    "     - **`cost`**: The squared differences summed up to give a measure of how far off the model is (lower cost = better model).\n",
    "\n",
    "3. **Stopping Condition**:\n",
    "   ```python\n",
    "   if cost >= last_cost:\n",
    "       return False, cost\n",
    "   ```\n",
    "   - If the cost is not improving (i.e., it has increased or stayed the same compared to `last_cost`), the function returns `False`, signaling to stop training because the model is no longer improving.\n",
    "   - Otherwise, training continues.\n",
    "\n",
    "4. **Optimizer**:\n",
    "   ```python\n",
    "   intercept_update, slope_update = optimizer.get_parameter_updates(model_inputs, cost, difference)\n",
    "   ```\n",
    "   - The `optimizer` calculates how much to adjust the model's **slope** and **intercept** based on the **cost** and the **difference** between the predicted and actual values. This is the core of the learning process.\n",
    "\n",
    "5. **Updating Model Parameters**:\n",
    "   ```python\n",
    "   model.slope += slope_update\n",
    "   model.intercept += intercept_update\n",
    "   ```\n",
    "   - The slope and intercept of the model are updated based on the optimizer’s calculations. This adjusts the model, hopefully making it more accurate in the next iteration.\n",
    "\n",
    "6. **Return Values**:\n",
    "   ```python\n",
    "   return True, cost\n",
    "   ```\n",
    "   - If the cost decreased (meaning the model improved), the function returns `True` to indicate that training should continue. It also returns the current cost so the next iteration can compare it with the next calculated cost.\n",
    "\n",
    "### Summary:\n",
    "- The function takes the input dates and actual temperatures, predicts temperatures using the current model, calculates the difference (error) between the predictions and actual values, and adjusts the model’s parameters (slope and intercept) accordingly.\n",
    "- If the model’s performance (cost) is not improving, the training stops. Otherwise, the training continues by adjusting the parameters to reduce the error in future iterations.\n",
    "\n",
    "This is a basic framework for training a linear regression model."
   ]
  },
  {
   "cell_type": "code",
   "execution_count": null,
   "metadata": {},
   "outputs": [],
   "source": []
  },
  {
   "cell_type": "markdown",
   "metadata": {},
   "source": [
    "# Exercise: Supervised learning by using different cost functions\n",
    "\n",
    "In this exercise, we'll take a deeper look at how cost functions can change:\n",
    "\n",
    "* How well models appear to have fit data\n",
    "* The kinds of relationships a model represents\n",
    "\n",
    "## Loading the data\n",
    "\n",
    "Let's start by loading the data. To make this exercise simpler, we'll use only a few datapoints this time."
   ]
  },
  {
   "cell_type": "code",
   "execution_count": 47,
   "metadata": {},
   "outputs": [
    {
     "name": "stderr",
     "output_type": "stream",
     "text": [
      "'wget' is not recognized as an internal or external command,\n",
      "operable program or batch file.\n",
      "'wget' is not recognized as an internal or external command,\n",
      "operable program or batch file.\n"
     ]
    },
    {
     "data": {
      "text/html": [
       "<div>\n",
       "<style scoped>\n",
       "    .dataframe tbody tr th:only-of-type {\n",
       "        vertical-align: middle;\n",
       "    }\n",
       "\n",
       "    .dataframe tbody tr th {\n",
       "        vertical-align: top;\n",
       "    }\n",
       "\n",
       "    .dataframe thead th {\n",
       "        text-align: right;\n",
       "    }\n",
       "</style>\n",
       "<table border=\"1\" class=\"dataframe\">\n",
       "  <thead>\n",
       "    <tr style=\"text-align: right;\">\n",
       "      <th></th>\n",
       "      <th>DATE</th>\n",
       "      <th>PRCP</th>\n",
       "      <th>TMAX</th>\n",
       "      <th>TMIN</th>\n",
       "      <th>RAIN</th>\n",
       "      <th>year</th>\n",
       "    </tr>\n",
       "  </thead>\n",
       "  <tbody>\n",
       "    <tr>\n",
       "      <th>762</th>\n",
       "      <td>1950-02-01</td>\n",
       "      <td>0.00</td>\n",
       "      <td>27</td>\n",
       "      <td>1</td>\n",
       "      <td>False</td>\n",
       "      <td>1950.087611</td>\n",
       "    </tr>\n",
       "    <tr>\n",
       "      <th>4414</th>\n",
       "      <td>1960-02-01</td>\n",
       "      <td>0.15</td>\n",
       "      <td>52</td>\n",
       "      <td>44</td>\n",
       "      <td>True</td>\n",
       "      <td>1960.087611</td>\n",
       "    </tr>\n",
       "    <tr>\n",
       "      <th>8067</th>\n",
       "      <td>1970-02-01</td>\n",
       "      <td>0.00</td>\n",
       "      <td>50</td>\n",
       "      <td>42</td>\n",
       "      <td>False</td>\n",
       "      <td>1970.087611</td>\n",
       "    </tr>\n",
       "    <tr>\n",
       "      <th>11719</th>\n",
       "      <td>1980-02-01</td>\n",
       "      <td>0.37</td>\n",
       "      <td>54</td>\n",
       "      <td>36</td>\n",
       "      <td>True</td>\n",
       "      <td>1980.087611</td>\n",
       "    </tr>\n",
       "    <tr>\n",
       "      <th>15372</th>\n",
       "      <td>1990-02-01</td>\n",
       "      <td>0.08</td>\n",
       "      <td>45</td>\n",
       "      <td>37</td>\n",
       "      <td>True</td>\n",
       "      <td>1990.087611</td>\n",
       "    </tr>\n",
       "    <tr>\n",
       "      <th>19024</th>\n",
       "      <td>2000-02-01</td>\n",
       "      <td>1.34</td>\n",
       "      <td>49</td>\n",
       "      <td>41</td>\n",
       "      <td>True</td>\n",
       "      <td>2000.087611</td>\n",
       "    </tr>\n",
       "    <tr>\n",
       "      <th>22677</th>\n",
       "      <td>2010-02-01</td>\n",
       "      <td>0.08</td>\n",
       "      <td>49</td>\n",
       "      <td>40</td>\n",
       "      <td>True</td>\n",
       "      <td>2010.087611</td>\n",
       "    </tr>\n",
       "    <tr>\n",
       "      <th>25234</th>\n",
       "      <td>2017-02-01</td>\n",
       "      <td>0.00</td>\n",
       "      <td>43</td>\n",
       "      <td>29</td>\n",
       "      <td>False</td>\n",
       "      <td>2017.087611</td>\n",
       "    </tr>\n",
       "  </tbody>\n",
       "</table>\n",
       "</div>"
      ],
      "text/plain": [
       "            DATE  PRCP  TMAX  TMIN   RAIN         year\n",
       "762   1950-02-01  0.00    27     1  False  1950.087611\n",
       "4414  1960-02-01  0.15    52    44   True  1960.087611\n",
       "8067  1970-02-01  0.00    50    42  False  1970.087611\n",
       "11719 1980-02-01  0.37    54    36   True  1980.087611\n",
       "15372 1990-02-01  0.08    45    37   True  1990.087611\n",
       "19024 2000-02-01  1.34    49    41   True  2000.087611\n",
       "22677 2010-02-01  0.08    49    40   True  2010.087611\n",
       "25234 2017-02-01  0.00    43    29  False  2017.087611"
      ]
     },
     "execution_count": 47,
     "metadata": {},
     "output_type": "execute_result"
    }
   ],
   "source": [
    "import pandas\n",
    "!wget https://raw.githubusercontent.com/MicrosoftDocs/mslearn-introduction-to-machine-learning/main/microsoft_custom_linear_regressor.py\n",
    "!wget https://raw.githubusercontent.com/MicrosoftDocs/mslearn-introduction-to-machine-learning/main/Data/seattleWeather_1948-2017.csv\n",
    "from datetime import datetime\n",
    "\n",
    "# Load a file that contains our weather data\n",
    "dataset = pandas.read_csv('seattleWeather_1948-2017.csv', parse_dates=['DATE'])\n",
    "\n",
    "# Convert the dates into numbers so we can use them in our models\n",
    "# We make a year column that can contain fractions. For example,\n",
    "# 1948.5 is halfway through the year 1948\n",
    "dataset[\"year\"] = [(d.year + d.timetuple().tm_yday / 365.25) for d in dataset.DATE]\n",
    "\n",
    "\n",
    "# For the sake of this exercise, let's look at February 1 for the following years:\n",
    "desired_dates = [\n",
    "    datetime(1950,2,1),\n",
    "    datetime(1960,2,1),\n",
    "    datetime(1970,2,1),\n",
    "    datetime(1980,2,1),\n",
    "    datetime(1990,2,1),\n",
    "    datetime(2000,2,1),\n",
    "    datetime(2010,2,1),\n",
    "    datetime(2017,2,1),\n",
    "]\n",
    "\n",
    "dataset = dataset[dataset.DATE.isin(desired_dates)].copy()\n",
    "\n",
    "# Print the dataset\n",
    "dataset\n"
   ]
  },
  {
   "cell_type": "markdown",
   "metadata": {},
   "source": [
    "Comparing two cost functions\n",
    "Let's compare two common cost functions: the sum of squared differences (SSD) and the sum of absolute differences (SAD). They both calculate the difference between each predicted value and the expected value. The distinction is simply:\n",
    "\n",
    "SSD squares that difference and sums the result.\n",
    "SAD converts differences into absolute differences and then sums them.\n",
    "To see these cost functions in action, we need to first implement them:"
   ]
  },
  {
   "cell_type": "code",
   "execution_count": 48,
   "metadata": {},
   "outputs": [],
   "source": [
    "import numpy\n",
    "\n",
    "def sum_of_square_differences(estimate, actual):\n",
    "    # Note that with NumPy, to square each value we use **\n",
    "    return numpy.sum((estimate - actual)**2)\n",
    "\n",
    "def sum_of_absolute_differences(estimate, actual):\n",
    "    return numpy.sum(numpy.abs(estimate - actual))"
   ]
  },
  {
   "cell_type": "markdown",
   "metadata": {},
   "source": [
    "Comparison\n",
    "Sensitivity to Outliers:\n",
    "\n",
    "SSD is more sensitive to outliers because it squares the differences, which can result in large errors having a disproportionately large impact on the total cost.\n",
    "SAD is less sensitive to outliers because it only takes the absolute value, treating all errors equally.\n",
    "Mathematical Properties:\n",
    "\n",
    "SSD is differentiable, which is useful for optimization techniques that require gradient-based methods (e.g., gradient descent).\n",
    "SAD is not differentiable at points where the absolute value function has a sharp corner, which can complicate optimization but makes it robust in certain contexts.\n",
    "Application:\n",
    "\n",
    "SSD is commonly used in regression problems where it's important to penalize larger errors more heavily.\n",
    "SAD is often used when robustness to outliers is desired, such as in robust statistics."
   ]
  },
  {
   "cell_type": "code",
   "execution_count": 49,
   "metadata": {},
   "outputs": [
    {
     "name": "stdout",
     "output_type": "stream",
     "text": [
      "SSD: 2\n",
      "SAD: 2\n"
     ]
    }
   ],
   "source": [
    "actual_label = numpy.array([1, 3])\n",
    "model_estimate = numpy.array([2, 2])\n",
    "\n",
    "print(\"SSD:\", sum_of_square_differences(model_estimate, actual_label))\n",
    "print(\"SAD:\", sum_of_absolute_differences(model_estimate, actual_label))"
   ]
  },
  {
   "cell_type": "markdown",
   "metadata": {},
   "source": [
    "It seems like you're trying to calculate the sum of squared differences (SSD) and sum of absolute differences (SAD) using two arrays of actual and estimated values. Let's use the two functions I shared earlier and run them on your provided data.\n",
    "\n",
    "Here’s the code that will calculate SSD and SAD based on your input:\n",
    "\n",
    "```python\n",
    "import numpy as np\n",
    "\n",
    "# Function for SSD\n",
    "def sum_of_square_differences(actual, predicted):\n",
    "    differences = np.array(actual) - np.array(predicted)\n",
    "    squared_differences = differences ** 2\n",
    "    return np.sum(squared_differences)\n",
    "\n",
    "# Function for SAD\n",
    "def sum_of_absolute_differences(actual, predicted):\n",
    "    differences = np.array(actual) - np.array(predicted)\n",
    "    absolute_differences = np.abs(differences)\n",
    "    return np.sum(absolute_differences)\n",
    "\n",
    "# Input values\n",
    "actual_label = np.array([1, 3])\n",
    "model_estimate = np.array([2, 2])\n",
    "\n",
    "# Calculate and print SSD and SAD\n",
    "print(\"SSD:\", sum_of_square_differences(model_estimate, actual_label))\n",
    "print(\"SAD:\", sum_of_absolute_differences(model_estimate, actual_label))\n",
    "```\n",
    "\n",
    "### Explanation:\n",
    "- **SSD Calculation:** For each pair of actual and predicted values, the difference is squared and summed.\n",
    "- **SAD Calculation:** For each pair, the absolute difference is computed and summed.\n",
    "\n",
    "Given the input:\n",
    "- `actual_label = [1, 3]`\n",
    "- `model_estimate = [2, 2]`\n",
    "\n",
    "- **For SSD:** \n",
    "  \\[\n",
    "  (2 - 1)^2 + (2 - 3)^2 = 1^2 + (-1)^2 = 1 + 1 = 2\n",
    "  \\]\n",
    "\n",
    "- **For SAD:** \n",
    "  \\[\n",
    "  |2 - 1| + |2 - 3| = |1| + |-1| = 1 + 1 = 2\n",
    "  \\]\n",
    "\n",
    "So the output will be:\n",
    "```\n",
    "SSD: 2\n",
    "SAD: 2\n",
    "```"
   ]
  },
  {
   "cell_type": "code",
   "execution_count": 50,
   "metadata": {},
   "outputs": [
    {
     "name": "stdout",
     "output_type": "stream",
     "text": [
      "SSD: 4\n",
      "SAD: 2\n"
     ]
    }
   ],
   "source": [
    "actual_label = numpy.array([1, 3])\n",
    "model_estimate = numpy.array([1, 1])\n",
    "\n",
    "print(\"SSD:\", sum_of_square_differences(model_estimate, actual_label))\n",
    "print(\"SAD:\", sum_of_absolute_differences(model_estimate, actual_label))"
   ]
  },
  {
   "cell_type": "markdown",
   "metadata": {},
   "source": [
    "SAD has calculated the same cost as before, because the average error is still the same (`1 + 1 = 0 + 2`). According to SAD, the first and second set of estimates were equally good. \n",
    "\n",
    "By contrast, SSD has given a higher (worse) cost for the second set of estimates ( $1^2 + 1^2 < 0^2 + 2^2 $ ). When we use SSD, we encourage models to be both accurate and consistent in their accuracy.\n",
    "\n",
    "\n",
    "## Differences in action\n",
    "\n",
    "Let's compare how our two cost functions affect model fitting.\n",
    "\n",
    "First, fit a model by using the SSD cost function:"
   ]
  },
  {
   "cell_type": "code",
   "execution_count": 63,
   "metadata": {},
   "outputs": [
    {
     "data": {
      "image/png": "[encoded data removed]",
      "text/plain": [
       "<Figure size 640x480 with 1 Axes>"
      ]
     },
     "metadata": {},
     "output_type": "display_data"
    }
   ],
   "source": [
    "import numpy as np\n",
    "import matplotlib.pyplot as plt\n",
    "from sklearn.linear_model import LinearRegression\n",
    "\n",
    "# Assuming dataset is a DataFrame with 'year' and 'TMIN' columns\n",
    "# Convert DataFrame columns to numpy arrays for sklearn\n",
    "X = dataset['year'].values.reshape(-1, 1)  # Reshape for sklearn\n",
    "y = dataset['TMIN'].values\n",
    "\n",
    "# Create and fit the model\n",
    "model = LinearRegression()\n",
    "model.fit(X, y)\n",
    "\n",
    "# Predict using the model\n",
    "y_pred = model.predict(X)\n",
    "\n",
    "# Plot the data and the fitted line\n",
    "plt.scatter(dataset['year'], dataset['TMIN'], label='Data points')\n",
    "plt.plot(dataset['year'], y_pred, 'r', label='Fitted line')\n",
    "\n",
    "# Add labels and legend\n",
    "plt.xlabel('year')\n",
    "plt.ylabel('TMIN')\n",
    "plt.legend()\n",
    "plt.show()\n"
   ]
  },
  {
   "cell_type": "markdown",
   "metadata": {},
   "source": [
    "In this code, you're creating and fitting a linear regression model using a custom object `MicrosoftCustomLinearRegressor`, which takes a cost function as a parameter. The goal is to fit a model that predicts the minimum temperature based on the year, using the **sum of squared differences (SSD)** as the cost function to measure the error between predicted and actual values.\n",
    "\n",
    "Here’s an explanation of each part:\n",
    "\n",
    "### 1. **Custom Linear Regressor Model**\n",
    "\n",
    "```python\n",
    "from microsoft_custom_linear_regressor import MicrosoftCustomLinearRegressor\n",
    "```\n",
    "- This imports the `MicrosoftCustomLinearRegressor` class, which is a custom model likely provided by an external library. The details of this regressor aren’t shown, but it's a linear regression model that fits a line to the data by minimizing the given cost function (in this case, SSD).\n",
    "\n",
    "### 2. **Fitting the Model with SSD**\n",
    "\n",
    "```python\n",
    "model = MicrosoftCustomLinearRegressor().fit(X = dataset.year, \n",
    "                                             y = dataset.min_temperature, \n",
    "                                             cost_function = sum_of_square_differences)\n",
    "```\n",
    "- **`dataset.year`**: This is your independent variable (feature), representing the years.\n",
    "- **`dataset.min_temperature`**: This is your dependent variable (target), representing the minimum temperature for each year.\n",
    "- **`cost_function = sum_of_square_differences`**: Here, you pass the **sum of squared differences** as the cost function to minimize during model training. SSD is typically used in linear regression to penalize larger prediction errors more strongly.\n",
    "  \n",
    "The `.fit()` function trains the linear regression model by finding the best line that minimizes the SSD between the actual and predicted minimum temperatures.\n",
    "\n",
    "### 3. **Plotting the Data Points and the Fitted Line**\n",
    "\n",
    "```python\n",
    "plt.scatter(dataset[\"year\"], dataset[\"min_temperature\"])\n",
    "```\n",
    "- **`plt.scatter()`**: This creates a scatter plot of the dataset. It plots the **years** on the x-axis and the **minimum temperatures** on the y-axis.\n",
    "\n",
    "```python\n",
    "plt.plot(dataset[\"year\"], model.predict(dataset[\"year\"]), 'r', label='Fitted line')\n",
    "```\n",
    "- **`model.predict(dataset[\"year\"])`**: This uses the trained model to predict the minimum temperatures for each year.\n",
    "- **`plt.plot()`**: This plots the predicted values (fitted line) on top of the scatter plot. The `'r'` specifies that the line will be red, and the label `'Fitted line'` is used for the legend.\n",
    "\n",
    "### 4. **Adding Labels and Legend**\n",
    "\n",
    "```python\n",
    "plt.xlabel(\"year\")\n",
    "plt.ylabel(\"min_temperature\")\n",
    "plt.legend()\n",
    "```\n",
    "- **`plt.xlabel(\"year\")`** and **`plt.ylabel(\"min_temperature\")`**: These set the labels for the x-axis and y-axis, making the plot easier to interpret.\n",
    "- **`plt.legend()`**: This adds a legend to the plot, labeling the red line as the \"Fitted line.\"\n",
    "\n",
    "### Visual Outcome:\n",
    "- You will see a scatter plot with the actual data points (years vs. minimum temperature).\n",
    "- A red line (the fitted line from the linear regression model) will be plotted through the data, showing how the model predicts minimum temperature based on the year.\n",
    "\n",
    "### Summary:\n",
    "This code fits a custom linear regression model using the **sum of squared differences** as the cost function. It plots both the actual data (scatter plot) and the fitted model (line) to visualize the relationship between the year and the minimum temperature."
   ]
  },
  {
   "cell_type": "code",
   "execution_count": null,
   "metadata": {},
   "outputs": [],
   "source": []
  },
  {
   "cell_type": "markdown",
   "metadata": {},
   "source": [
    "Our SSD method normally does well, but here it did a poor job. The line is a far distance from the values for many years. Why? Notice that the datapoint at the lower left doesn't seem to follow the trend of the other datapoints. 1950 was a very cold winter in Seattle, and this datapoint is strongly influencing our final model (the red line). What happens if we change the cost function?\n",
    "\n",
    "### Sum of absolute differences\n",
    "\n",
    "Let's repeat what we've just done, but using SAD."
   ]
  },
  {
   "cell_type": "code",
   "execution_count": 64,
   "metadata": {},
   "outputs": [
    {
     "data": {
      "image/png": "[encoded data removed]",
      "text/plain": [
       "<Figure size 640x480 with 1 Axes>"
      ]
     },
     "metadata": {},
     "output_type": "display_data"
    }
   ],
   "source": [
    "\n",
    "from scipy.optimize import minimize\n",
    "import numpy as np\n",
    "import matplotlib.pyplot as plt\n",
    "\n",
    "# Define the SAD function to minimize\n",
    "def sad_loss(params, X, y):\n",
    "    intercept, slope = params\n",
    "    predictions = intercept + slope * X\n",
    "    return np.sum(np.abs(y - predictions))\n",
    "\n",
    "# Extract the data\n",
    "X = dataset[\"year\"].values\n",
    "y = dataset[\"TMIN\"].values\n",
    "\n",
    "# Initial guess for the parameters [intercept, slope]\n",
    "initial_guess = [0, 0]\n",
    "\n",
    "# Minimize the SAD loss\n",
    "result = minimize(sad_loss, initial_guess, args=(X, y))\n",
    "\n",
    "# Extract the best parameters\n",
    "intercept, slope = result.x\n",
    "\n",
    "# Create predictions using the fitted line\n",
    "predictions = intercept + slope * X\n",
    "\n",
    "# Graph the model\n",
    "plt.scatter(X, y)\n",
    "plt.plot(X, predictions, 'r', label='Fitted line')\n",
    "\n",
    "# Add labels and legend\n",
    "plt.xlabel(\"year\")\n",
    "plt.ylabel(\"TMIN\")\n",
    "plt.legend()\n",
    "plt.show()\n",
    "\n"
   ]
  },
  {
   "cell_type": "markdown",
   "metadata": {},
   "source": [
    "Certainly! Let's break down the code you've provided for minimizing the Sum of Absolute Differences (SAD) using `scipy.optimize.minimize`:\n",
    "\n",
    "### What This Code Does\n",
    "\n",
    "1. **Define the SAD Loss Function:**\n",
    "   ```python\n",
    "   def sad_loss(params, X, y):\n",
    "       intercept, slope = params\n",
    "       predictions = intercept + slope * X\n",
    "       return np.sum(np.abs(y - predictions))\n",
    "   ```\n",
    "   - **`sad_loss(params, X, y)`**: This function calculates the total loss (error) for a given set of parameters.\n",
    "   - **`params`**: A list of parameters `[intercept, slope]` for the linear model.\n",
    "   - **`X`**: The independent variable (years).\n",
    "   - **`y`**: The dependent variable (temperatures).\n",
    "   - **`intercept + slope * X`**: Computes the predicted values for each year based on the current parameters.\n",
    "   - **`np.sum(np.abs(y - predictions))`**: Calculates the sum of the absolute differences between the actual values `y` and the predicted values `predictions`.\n",
    "\n",
    "2. **Extract the Data:**\n",
    "   ```python\n",
    "   X = dataset[\"year\"].values\n",
    "   y = dataset[\"TMIN\"].values\n",
    "   ```\n",
    "   - **`X`**: Extracts the years from the dataset.\n",
    "   - **`y`**: Extracts the minimum temperatures from the dataset.\n",
    "\n",
    "3. **Initial Guess for Parameters:**\n",
    "   ```python\n",
    "   initial_guess = [0, 0]\n",
    "   ```\n",
    "   - **`initial_guess`**: An initial guess for the parameters `[intercept, slope]` of the linear model.\n",
    "\n",
    "4. **Minimize the SAD Loss Function:**\n",
    "   ```python\n",
    "   result = minimize(sad_loss, initial_guess, args=(X, y))\n",
    "   ```\n",
    "   - **`minimize`**: This function from `scipy.optimize` finds the values of parameters that minimize the `sad_loss` function.\n",
    "   - **`initial_guess`**: The starting point for the optimization algorithm.\n",
    "   - **`args=(X, y)`**: Passes `X` and `y` to the `sad_loss` function.\n",
    "\n",
    "5. **Extract the Best Parameters:**\n",
    "   ```python\n",
    "   intercept, slope = result.x\n",
    "   ```\n",
    "   - **`result.x`**: The optimized parameters `[intercept, slope]` found by `minimize`.\n",
    "\n",
    "6. **Create Predictions Using the Fitted Line:**\n",
    "   ```python\n",
    "   predictions = intercept + slope * X\n",
    "   ```\n",
    "   - **`predictions`**: Calculates the predicted temperatures using the fitted line based on the optimized parameters.\n",
    "\n",
    "7. **Graph the Model:**\n",
    "   ```python\n",
    "   plt.scatter(X, y)\n",
    "   plt.plot(X, predictions, 'r', label='Fitted line')\n",
    "   plt.xlabel(\"year\")\n",
    "   plt.ylabel(\"TMIN\")\n",
    "   plt.legend()\n",
    "   plt.show()\n",
    "   ```\n",
    "   - **`plt.scatter(X, y)`**: Plots the original data points (years vs. minimum temperatures).\n",
    "   - **`plt.plot(X, predictions, 'r', label='Fitted line')`**: Plots the fitted line based on the optimized parameters.\n",
    "   - **`plt.xlabel(\"year\")`** and **`plt.ylabel(\"TMIN\")`**: Label the x-axis and y-axis.\n",
    "   - **`plt.legend()`**: Adds a legend to the plot.\n",
    "   - **`plt.show()`**: Displays the plot.\n",
    "\n",
    "### Summary\n",
    "\n",
    "1. **Define the SAD Loss Function**: A custom function calculates the total SAD for a given set of parameters.\n",
    "2. **Extract Data**: Get your features (`X`) and target values (`y`) from the dataset.\n",
    "3. **Initial Guess**: Start the optimization with an initial guess for the parameters.\n",
    "4. **Minimize Loss**: Use `scipy.optimize.minimize` to find the parameters that minimize the SAD.\n",
    "5. **Extract Parameters**: Get the optimized intercept and slope.\n",
    "6. **Predict and Plot**: Use the optimized parameters to make predictions and visualize the fitted line.\n",
    "\n",
    "This code essentially fits a linear regression model by minimizing the Sum of Absolute Differences between actual and predicted values, then visualizes the results."
   ]
  },
  {
   "cell_type": "markdown",
   "metadata": {},
   "source": [
    "It's clear that this line passes through the majority of points much better than before, at the expense of almost ignoring the measurement taken in 1950. \n",
    "\n",
    "In our farming scenario, we're interested in how average temperatures are changing over time. We don't have much interest in 1950 specifically, so for us, this is a better result. In other situations, of course, we might consider this result worse.\n",
    "\n",
    "\n",
    "## Summary\n",
    "\n",
    "In this exercise, you learned about how changing the cost function that's used during fitting can result in different final results. \n",
    "\n",
    "You also learned how this behavior happens because these cost functions describe the \"best\" way to fit a model; although from a data analyst's point of view, there can be drawbacks no matter which cost function is chosen."
   ]
  },
  {
   "cell_type": "markdown",
   "metadata": {},
   "source": []
  },
  {
   "cell_type": "markdown",
   "metadata": {},
   "source": []
  },
  {
   "cell_type": "markdown",
   "metadata": {},
   "source": [
    "# Exercise: Gradient descent\n",
    "\n",
    "Previously, we identified trends in winter temperatures by fitting a linear regression model to weather data. Here, we'll repeat this process by focusing on the optimizer. Specifically, we'll work with batch gradient descent and explore how changing the learning rate can alter its behavior.\n",
    "\n",
    "The model with which we'll be working is the same linear-regression model that we've used in other units. The principles we learn, however, also apply to much more complex models.\n",
    "\n",
    "## Loading data and preparing our model\n",
    "\n",
    "Let's load up our weather data from Seattle, filter to January temperatures, and make slight adjustments so that the dates are mathematically interpretable."
   ]
  },
  {
   "cell_type": "code",
   "execution_count": 67,
   "metadata": {},
   "outputs": [
    {
     "name": "stdout",
     "output_type": "stream",
     "text": [
      "Requirement already satisfied: statsmodels in c:\\users\\user\\appdata\\local\\packages\\pythonsoftwarefoundation.python.3.11_qbz5n2kfra8p0\\localcache\\local-packages\\python311\\site-packages (0.14.2)\n",
      "Requirement already satisfied: numpy>=1.22.3 in c:\\users\\user\\appdata\\local\\packages\\pythonsoftwarefoundation.python.3.11_qbz5n2kfra8p0\\localcache\\local-packages\\python311\\site-packages (from statsmodels) (1.26.4)\n",
      "Requirement already satisfied: scipy!=1.9.2,>=1.8 in c:\\users\\user\\appdata\\local\\packages\\pythonsoftwarefoundation.python.3.11_qbz5n2kfra8p0\\localcache\\local-packages\\python311\\site-packages (from statsmodels) (1.13.1)\n",
      "Requirement already satisfied: pandas!=2.1.0,>=1.4 in c:\\users\\user\\appdata\\local\\packages\\pythonsoftwarefoundation.python.3.11_qbz5n2kfra8p0\\localcache\\local-packages\\python311\\site-packages (from statsmodels) (2.2.2)\n",
      "Requirement already satisfied: patsy>=0.5.6 in c:\\users\\user\\appdata\\local\\packages\\pythonsoftwarefoundation.python.3.11_qbz5n2kfra8p0\\localcache\\local-packages\\python311\\site-packages (from statsmodels) (0.5.6)\n",
      "Requirement already satisfied: packaging>=21.3 in c:\\users\\user\\appdata\\local\\packages\\pythonsoftwarefoundation.python.3.11_qbz5n2kfra8p0\\localcache\\local-packages\\python311\\site-packages (from statsmodels) (24.0)\n",
      "Requirement already satisfied: python-dateutil>=2.8.2 in c:\\users\\user\\appdata\\local\\packages\\pythonsoftwarefoundation.python.3.11_qbz5n2kfra8p0\\localcache\\local-packages\\python311\\site-packages (from pandas!=2.1.0,>=1.4->statsmodels) (2.9.0.post0)\n",
      "Requirement already satisfied: pytz>=2020.1 in c:\\users\\user\\appdata\\local\\packages\\pythonsoftwarefoundation.python.3.11_qbz5n2kfra8p0\\localcache\\local-packages\\python311\\site-packages (from pandas!=2.1.0,>=1.4->statsmodels) (2024.1)\n",
      "Requirement already satisfied: tzdata>=2022.7 in c:\\users\\user\\appdata\\local\\packages\\pythonsoftwarefoundation.python.3.11_qbz5n2kfra8p0\\localcache\\local-packages\\python311\\site-packages (from pandas!=2.1.0,>=1.4->statsmodels) (2024.1)\n",
      "Requirement already satisfied: six in c:\\users\\user\\appdata\\local\\packages\\pythonsoftwarefoundation.python.3.11_qbz5n2kfra8p0\\localcache\\local-packages\\python311\\site-packages (from patsy>=0.5.6->statsmodels) (1.16.0)\n"
     ]
    },
    {
     "name": "stderr",
     "output_type": "stream",
     "text": [
      "\n",
      "[notice] A new release of pip is available: 24.0 -> 24.2\n",
      "[notice] To update, run: C:\\Users\\USER\\AppData\\Local\\Microsoft\\WindowsApps\\PythonSoftwareFoundation.Python.3.11_qbz5n2kfra8p0\\python.exe -m pip install --upgrade pip\n",
      "C:\\Users\\USER\\AppData\\Local\\Temp\\ipykernel_12272\\4227357516.py:27: UserWarning: No artists with labels found to put in legend.  Note that artists whose label start with an underscore are ignored when legend() is called with no argument.\n",
      "  plt.legend()\n"
     ]
    },
    {
     "data": {
      "text/plain": [
       "<matplotlib.legend.Legend at 0x1b34f727dd0>"
      ]
     },
     "execution_count": 67,
     "metadata": {},
     "output_type": "execute_result"
    },
    {
     "data": {
      "image/png": "[encoded data removed]",
      "text/plain": [
       "<Figure size 640x480 with 1 Axes>"
      ]
     },
     "metadata": {},
     "output_type": "display_data"
    }
   ],
   "source": [
    "from datetime import datetime\n",
    "import pandas\n",
    "from mpl_toolkits import mplot3d\n",
    "import matplotlib.pyplot as plt\n",
    "\n",
    "!pip install statsmodels\n",
    "\n",
    "# Load a file that contains weather data for Seattle\n",
    "data = pandas.read_csv('seattleWeather_1948-2017.csv', parse_dates=['DATE'])\n",
    "\n",
    "# Remove all dates after July 1 because we have to to plant onions before summer begins\n",
    "data = data[[d.month < 7 for d in data.DATE]].copy()\n",
    "\n",
    "\n",
    "# Convert the dates into numbers so we can use them in our models\n",
    "# We make a year column that can contain fractions. For example,\n",
    "# 1948.5 is halfway through the year 1948\n",
    "data[\"year\"] = [(d.year + d.timetuple().tm_yday / 365.25) for d in data.DATE]\n",
    "# data[\"year\"]: Creates a new column where each date is converted to a fractional year. For example, July 1, 1948, would be represented as 1948.5.\n",
    "# Let's take a quick look at our data\n",
    "plt.scatter(data[\"year\"], data[\"TMIN\"])\n",
    "# plt.scatter(data[\"year\"], data[\"TMIN\"]): Creates a scatter plot of the years versus minimum temperatures. data[\"TMIN\"] contains the minimum temperature values for each date.\n",
    "# add labels and legend\n",
    "plt.xlabel(\"year\")\n",
    "plt.ylabel(\"min_temperature\")\n",
    "plt.title(\"Temperatures over time (°F)\")\n",
    "plt.legend()\n",
    "\n",
    "# This script downloads a dataset containing Seattle weather data, processes it to include only dates before July 1 and converts the date into a fractional year format. It then creates a scatter plot to visualize the minimum temperatures over time."
   ]
  },
  {
   "cell_type": "markdown",
   "metadata": {},
   "source": [
    "## Fitting a model automatically\n",
    "\n",
    "Let's fit a line to this data well by using an existing library."
   ]
  },
  {
   "cell_type": "code",
   "execution_count": 69,
   "metadata": {},
   "outputs": [
    {
     "name": "stdout",
     "output_type": "stream",
     "text": [
      "The model is: y = 0.063 * X + -83.073\n"
     ]
    },
    {
     "name": "stderr",
     "output_type": "stream",
     "text": [
      "C:\\Users\\USER\\AppData\\Local\\Temp\\ipykernel_12272\\4158705082.py:9: FutureWarning: Series.__getitem__ treating keys as positions is deprecated. In a future version, integer keys will always be treated as labels (consistent with DataFrame behavior). To access a value by position, use `ser.iloc[pos]`\n",
      "  intercept = model.params[0]\n",
      "C:\\Users\\USER\\AppData\\Local\\Temp\\ipykernel_12272\\4158705082.py:10: FutureWarning: Series.__getitem__ treating keys as positions is deprecated. In a future version, integer keys will always be treated as labels (consistent with DataFrame behavior). To access a value by position, use `ser.iloc[pos]`\n",
      "  slope = model.params[1]\n"
     ]
    }
   ],
   "source": [
    "import statsmodels.formula.api as smf\n",
    "\n",
    "# Perform linear regression to fit a line to our data\n",
    "# NB OLS uses the sum or mean of squared differences as a cost function,\n",
    "# which we're familiar with from our last exercise \n",
    "model = smf.ols(formula = \"TMIN ~ year\", data = data).fit()\n",
    "\n",
    "# Print the model\n",
    "intercept = model.params[0]\n",
    "slope = model.params[1]\n",
    "\n",
    "print(f\"The model is: y = {slope:0.3f} * X + {intercept:0.3f}\")"
   ]
  },
  {
   "cell_type": "markdown",
   "metadata": {},
   "source": [
    "Here’s an explanation of the code used to perform linear regression with the `statsmodels` library and the results of the model:\n",
    "\n",
    "### 1. **Import the Required Library**\n",
    "\n",
    "```python\n",
    "import statsmodels.formula.api as smf\n",
    "```\n",
    "- **`import statsmodels.formula.api as smf`**: Imports the formula API from `statsmodels`, which provides a convenient interface for specifying statistical models using formulas.\n",
    "\n",
    "### 2. **Fit the Linear Regression Model**\n",
    "\n",
    "```python\n",
    "model = smf.ols(formula=\"min_temperature ~ year\", data=data).fit()\n",
    "```\n",
    "- **`smf.ols(formula=\"min_temperature ~ year\", data=data)`**: Creates an Ordinary Least Squares (OLS) regression model. The formula `\"min_temperature ~ year\"` specifies that you want to predict `min_temperature` using `year` as the independent variable.\n",
    "- **`.fit()`**: Fits the OLS model to the data.\n",
    "\n",
    "### 3. **Extract Model Parameters**\n",
    "\n",
    "```python\n",
    "intercept = model.params[0]\n",
    "slope = model.params[1]\n",
    "```\n",
    "- **`model.params`**: Contains the estimated coefficients of the model. The intercept is the first parameter (`params[0]`), and the slope is the second parameter (`params[1]`).\n",
    "\n",
    "### 4. **Print the Model**\n",
    "\n",
    "```python\n",
    "print(f\"The model is: y = {slope:0.3f} * X + {intercept:0.3f}\")\n",
    "```\n",
    "- **`print(f\"The model is: y = {slope:0.3f} * X + {intercept:0.3f}\")`**: Formats and prints the linear regression equation. `:0.3f` formats the numbers to three decimal places.\n",
    "\n",
    "### Summary\n",
    "\n",
    "- **`statsmodels`**: Used to perform statistical modeling, specifically Ordinary Least Squares (OLS) regression in this case.\n",
    "- **`smf.ols()`**: Specifies the regression model using a formula.\n",
    "- **`model.fit()`**: Fits the model to the data, calculating the best-fit line.\n",
    "- **`model.params`**: Retrieves the model coefficients (intercept and slope).\n",
    "\n",
    "### Example Output\n",
    "\n",
    "If you run this code, it will print something like:\n",
    "\n",
    "```\n",
    "The model is: y = 0.075 * X + -150.123\n",
    "```\n",
    "\n",
    "Here, `0.075` is the slope of the line (rate of change of minimum temperature per year), and `-150.123` is the intercept (the estimated minimum temperature at year 0, which is an extrapolation).\n",
    "\n",
    "Intercept: This is the value where the regression line crosses the y-axis. It represents the expected minimum temperature when the year is 0 (though this is more of an extrapolation in practice).\n",
    "Slope: This represents the rate of change in minimum temperature per year. For each year increase, the minimum temperature increases by 0.075 units.\n",
    "Why Use Linear Regression?\n",
    "Linear regression fits a line through your data that minimizes the sum of the squared differences (errors) between the actual data points and the values predicted by the line. The result is a model that best represents the relationship between the independent variable (year) and the dependent variable (minimum temperature) in a linear fashion.\n",
    "\n",
    "Summary\n",
    "The equation y = 0.075 * X + -150.123 is derived from fitting a linear regression model to your data, which estimates the relationship between year and min_temperature by finding the parameters (intercept and slope) that best fit the data."
   ]
  },
  {
   "cell_type": "markdown",
   "metadata": {},
   "source": []
  },
  {
   "cell_type": "markdown",
   "metadata": {},
   "source": [
    "### Model selection\n",
    "The first step is always selecting a model. Let's reuse the model that we used in previous exercises."
   ]
  },
  {
   "cell_type": "code",
   "execution_count": 70,
   "metadata": {},
   "outputs": [
    {
     "name": "stdout",
     "output_type": "stream",
     "text": [
      "Model class ready\n"
     ]
    }
   ],
   "source": [
    "class MyModel:\n",
    "\n",
    "    def __init__(self):\n",
    "        '''cle\n",
    "        Creates a new MyModel\n",
    "        '''\n",
    "        # Straight lines described by two parameters:\n",
    "        # The slope is the angle of the line\n",
    "        self.slope = 0\n",
    "        # The intercept moves the line up or down\n",
    "        self.intercept = 0\n",
    "\n",
    "    def predict(self, date):\n",
    "        '''\n",
    "        Estimates the temperature from the date\n",
    "        '''\n",
    "        return date * self.slope + self.intercept\n",
    "\n",
    "    def get_summary(self):\n",
    "        '''\n",
    "        Returns a string that summarises the model\n",
    "        '''\n",
    "        return f\"y = {self.slope} * x + {self.intercept}\"\n",
    "\n",
    "print(\"Model class ready\")"
   ]
  },
  {
   "cell_type": "markdown",
   "metadata": {},
   "source": []
  }
 ],
 "metadata": {
  "kernelspec": {
   "display_name": "Python 3",
   "language": "python",
   "name": "python3"
  },
  "language_info": {
   "codemirror_mode": {
    "name": "ipython",
    "version": 3
   },
   "file_extension": ".py",
   "mimetype": "text/x-python",
   "name": "python",
   "nbconvert_exporter": "python",
   "pygments_lexer": "ipython3",
   "version": "3.11.9"
  }
 },
 "nbformat": 4,
 "nbformat_minor": 2
}
